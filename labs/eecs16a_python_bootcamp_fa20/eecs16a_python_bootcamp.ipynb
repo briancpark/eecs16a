{
 "cells": [
  {
   "attachments": {},
   "cell_type": "markdown",
   "metadata": {},
   "source": [
    "# EECS 16A Python Bootcamp\n",
    "### EECS 16A: Designing Information Devices and Systems I, Fall 2020"
   ]
  },
  {
   "attachments": {},
   "cell_type": "markdown",
   "metadata": {},
   "source": [
    "# Table of Contents\n",
    "* [Install Test](#install-test)\n",
    "* [Overview](#overview)\n",
    "* [Assistance](#questions)\n",
    "* [Python](#python)\n",
    "    * [Functions and Variables](#fnvar)\n",
    "    * [Control Flow](#ctrl)\n",
    "    * [List Comprehension](#lst)\n",
    "* [NumPy](#numpy)\n",
    "    * [Arrays](#arrays)\n",
    "    * [Slicing](#slice)\n",
    "    * [Useful Functions](#funcs)\n",
    "* [Miscellaneous Functions](#misc)\n",
    "* [Questions](#qs)\n",
    "* [Checkoff](#checkoff)"
   ]
  },
  {
   "attachments": {},
   "cell_type": "markdown",
   "metadata": {},
   "source": [
    "<a id='install-test'></a>\n",
    "# Install Test\n",
    "\n",
    "Welcome to your first Jupyter Notebook for 16A! Before we dive into the content of this lab, we want to make sure that all necessary packages are installed correctly. \n",
    "\n",
    "Click on the block of code below (don't worry about what it does - we'll start covering that next lab) and press the Run button above to run it. Alternately, you can use `Shift + Enter` to execute and move to the next block, or `Control + Enter` to execute and stay in the same block. \n",
    "\n",
    "If anything strange appears (most likely a jumbled mass of text that is an error message) call over your lab TA or one of your lab assistants and they should be able to help! **<span style=\"color:red\"> Warnings are fine, don't worry about those.</span>**\n",
    "\n",
    "### **<span style=\"color:red\">Run the code block below by clicking anywhere inside of it and pressing Shift + Enter</span>**"
   ]
  },
  {
   "cell_type": "code",
   "execution_count": 1,
   "metadata": {
    "execution": {
     "iopub.execute_input": "2024-01-04T09:15:22.643470Z",
     "iopub.status.busy": "2024-01-04T09:15:22.642912Z",
     "iopub.status.idle": "2024-01-04T09:15:22.773526Z",
     "shell.execute_reply": "2024-01-04T09:15:22.768491Z"
    }
   },
   "outputs": [
    {
     "name": "stdout",
     "output_type": "stream",
     "text": [
      "Congratulations! Your Install is great!\n"
     ]
    }
   ],
   "source": [
    "from __future__ import division\n",
    "import numpy as np\n",
    "import struct\n",
    "import time\n",
    "import warnings\n",
    "\n",
    "warnings.filterwarnings(\"ignore\")\n",
    "import math\n",
    "from numpy.linalg import inv\n",
    "import struct\n",
    "import time\n",
    "import scipy\n",
    "from scipy import linalg\n",
    "import random\n",
    "import math\n",
    "from IPython import display\n",
    "from ipywidgets import interact, interactive, fixed, interact_manual\n",
    "import ipywidgets as widgets\n",
    "from IPython.display import display\n",
    "\n",
    "print(\"Congratulations! Your Install is great!\")"
   ]
  },
  {
   "attachments": {},
   "cell_type": "markdown",
   "metadata": {},
   "source": [
    "<a id='overview'></a>\n",
    "# Overview\n",
    "\n",
    "This mini-lab serves as an introduction to Jupyter, Python and a couple important packages we will be using throughout the semester. The lab aims to teach you proper usage of certain commands and can serve as a reference doc in the future. Even if you are a Python wizard already, we recommend that you at least look through the lab and try a few of the later problems to get re-acquainted with the functions we will be frequently using in this course.\n",
    "\n",
    "This lab is separated into two main parts: Guide and Questions. The Guide portion walks you through frequently used Python code, functions, and techniques. The Guide is supplemented with numerous blocks of example code to showcase concepts. The Questions portion of the lab is a collection of 10 problems meant to test your understanding of this guide. If you can answer these questions, then you have the knowledge to complete any and all programming tasks in EECS 16A."
   ]
  },
  {
   "attachments": {},
   "cell_type": "markdown",
   "metadata": {},
   "source": [
    "<a id='questions'></a>\n",
    "\n",
    "# Assistance\n",
    "Whenever you have a question, please use the **[Question queue](https://lab.eecs16a.org)**. You will be prompted to log in with your Berkeley email, after which you will be able to submit a question request. Please select the assignment and specify your breakout room number in your request. A member of lab staff will join your breakout room to help."
   ]
  },
  {
   "attachments": {},
   "cell_type": "markdown",
   "metadata": {},
   "source": [
    "<a id='python'></a>\n",
    "# Python\n",
    "\n",
    "Both the labs and the homeworks in this course will require you to write some **Python** code. If you're new to programming, have no fear, as the assignments don't require more than just the fundamentals, which we will also go through during this lab; **this is not round 2 of 61A.**"
   ]
  },
  {
   "attachments": {},
   "cell_type": "markdown",
   "metadata": {},
   "source": [
    "<a id='fnvar'></a>\n",
    "## Functions and Variables in Python\n",
    "\n",
    "A function is a set of statements that takes in optional inputs, runs those statements, and then returns optional data.\n",
    "\n",
    "Variables are containers for storing data values. These data values could be numbers, characters, words (called strings), etc. They can also point to lists or functions."
   ]
  },
  {
   "cell_type": "code",
   "execution_count": 2,
   "metadata": {
    "execution": {
     "iopub.execute_input": "2024-01-04T09:15:22.802037Z",
     "iopub.status.busy": "2024-01-04T09:15:22.801098Z",
     "iopub.status.idle": "2024-01-04T09:15:22.806607Z",
     "shell.execute_reply": "2024-01-04T09:15:22.805763Z"
    }
   },
   "outputs": [
    {
     "name": "stdout",
     "output_type": "stream",
     "text": [
      "16\n"
     ]
    }
   ],
   "source": [
    "simple_number = 6\n",
    "numbers = [1, 2, 3, 4, simple_number]  # this is a list\n",
    "\n",
    "add = sum(\n",
    "    numbers\n",
    ")  # sum is a function that takes a list of numbers and returns their sum\n",
    "\n",
    "print(add)"
   ]
  },
  {
   "cell_type": "code",
   "execution_count": 3,
   "metadata": {
    "execution": {
     "iopub.execute_input": "2024-01-04T09:15:22.815779Z",
     "iopub.status.busy": "2024-01-04T09:15:22.815139Z",
     "iopub.status.idle": "2024-01-04T09:15:22.820609Z",
     "shell.execute_reply": "2024-01-04T09:15:22.819728Z"
    }
   },
   "outputs": [
    {
     "name": "stdout",
     "output_type": "stream",
     "text": [
      "a\n"
     ]
    }
   ],
   "source": [
    "letter = \"a\"\n",
    "\n",
    "show = print  # this statement makes show point to the function print. Thus, show(param) will do the same thing as print(param)\n",
    "show(letter)"
   ]
  },
  {
   "attachments": {},
   "cell_type": "markdown",
   "metadata": {},
   "source": [
    "We can write our own functions using the 'def' keyword. "
   ]
  },
  {
   "cell_type": "code",
   "execution_count": 4,
   "metadata": {
    "execution": {
     "iopub.execute_input": "2024-01-04T09:15:22.825534Z",
     "iopub.status.busy": "2024-01-04T09:15:22.825200Z",
     "iopub.status.idle": "2024-01-04T09:15:22.830735Z",
     "shell.execute_reply": "2024-01-04T09:15:22.829530Z"
    }
   },
   "outputs": [
    {
     "name": "stdout",
     "output_type": "stream",
     "text": [
      "Welcome to 16A your name here\n"
     ]
    }
   ],
   "source": [
    "def welcome(name):\n",
    "    print(\"Welcome to 16A \" + name)\n",
    "\n",
    "\n",
    "welcome(\"your name here\")  # type your name inside the quotes"
   ]
  },
  {
   "attachments": {},
   "cell_type": "markdown",
   "metadata": {},
   "source": [
    "<a id='ctrl'></a>\n",
    "## Control Flow in Python\n",
    "\n",
    "Programming languages usually contain statements that can be used to direct or \"control the flow\" of execution. This includes (but is not limited to) conditional statements such as `if`, `else`, and `elif`, and loop-control statements such as `while`, `for`, `break`, and `continue`. "
   ]
  },
  {
   "attachments": {},
   "cell_type": "markdown",
   "metadata": {},
   "source": [
    "### Conditional Statements: (if, else, elif)\n",
    "\n",
    "These check for a condition and execute a set of statements accordingly."
   ]
  },
  {
   "cell_type": "code",
   "execution_count": 5,
   "metadata": {
    "execution": {
     "iopub.execute_input": "2024-01-04T09:15:22.837727Z",
     "iopub.status.busy": "2024-01-04T09:15:22.837218Z",
     "iopub.status.idle": "2024-01-04T09:15:22.844128Z",
     "shell.execute_reply": "2024-01-04T09:15:22.842492Z"
    }
   },
   "outputs": [
    {
     "name": "stdout",
     "output_type": "stream",
     "text": [
      "if condition is False!\n"
     ]
    }
   ],
   "source": [
    "# Example 1: Simple if/else\n",
    "\n",
    "x = 16\n",
    "\n",
    "if x > 20:  # Asking the question, \"Is x greater than 20?\"\n",
    "    print(\"if condition is True!\")\n",
    "else:\n",
    "    print(\"if condition is False!\")"
   ]
  },
  {
   "cell_type": "code",
   "execution_count": 6,
   "metadata": {
    "execution": {
     "iopub.execute_input": "2024-01-04T09:15:22.849423Z",
     "iopub.status.busy": "2024-01-04T09:15:22.848174Z",
     "iopub.status.idle": "2024-01-04T09:15:22.854628Z",
     "shell.execute_reply": "2024-01-04T09:15:22.853343Z"
    }
   },
   "outputs": [
    {
     "name": "stdout",
     "output_type": "stream",
     "text": [
      "first if condition is False and second if condition is True!\n"
     ]
    }
   ],
   "source": [
    "# Example 2: Introducing elif\n",
    "\n",
    "x = 16\n",
    "\n",
    "if x > 20:  # Asking the question, \"Is x greater than 20?\"\n",
    "    print(\"first if condition is True!\")\n",
    "elif x > 10 and x < 20:  # Asking the question, \"Is x greater than 10 AND less than 20?\"\n",
    "    print(\"first if condition is False and second if condition is True!\")\n",
    "else:\n",
    "    print(\"Neither if condition was True!\")"
   ]
  },
  {
   "attachments": {},
   "cell_type": "markdown",
   "metadata": {},
   "source": [
    "### Loop-Control Statements: (while, for)\n",
    "\n",
    "These iterate over a set of statements a specified number times or as long as a specified condition is true."
   ]
  },
  {
   "cell_type": "code",
   "execution_count": 7,
   "metadata": {
    "execution": {
     "iopub.execute_input": "2024-01-04T09:15:22.861557Z",
     "iopub.status.busy": "2024-01-04T09:15:22.860825Z",
     "iopub.status.idle": "2024-01-04T09:15:22.866360Z",
     "shell.execute_reply": "2024-01-04T09:15:22.865481Z"
    }
   },
   "outputs": [
    {
     "name": "stdout",
     "output_type": "stream",
     "text": [
      "i: 0\n",
      "i: 1\n",
      "i: 2\n",
      "i: 3\n",
      "i: 4\n"
     ]
    }
   ],
   "source": [
    "# Example 3: while\n",
    "\n",
    "i = 0\n",
    "while (\n",
    "    i < 5\n",
    "):  # Check if i < 5 every iteration. Stop looping if the condition is false, i.e. if i >= 5.\n",
    "    print(\"i:\", i)\n",
    "    i += 1  # increment i by 1"
   ]
  },
  {
   "attachments": {},
   "cell_type": "markdown",
   "metadata": {},
   "source": [
    "Unlike while loops, which can theoretically run \"forever\" given the right condition, for loops serve a different purpose -- iterating a fixed number of times. For loops in Python expect an iterable object -- something similar to a list -- to control the number of iterations. The example below is \"equivalent\" to the while loop in the previous example."
   ]
  },
  {
   "cell_type": "code",
   "execution_count": 8,
   "metadata": {
    "execution": {
     "iopub.execute_input": "2024-01-04T09:15:22.874793Z",
     "iopub.status.busy": "2024-01-04T09:15:22.874317Z",
     "iopub.status.idle": "2024-01-04T09:15:22.880542Z",
     "shell.execute_reply": "2024-01-04T09:15:22.879143Z"
    }
   },
   "outputs": [
    {
     "name": "stdout",
     "output_type": "stream",
     "text": [
      "i: 0\n",
      "i: 1\n",
      "i: 2\n",
      "i: 3\n",
      "i: 4\n"
     ]
    }
   ],
   "source": [
    "# Example 4: for (pun intended)\n",
    "\n",
    "for i in range(\n",
    "    0, 5\n",
    "):  # read about range() here: http://pythoncentral.io/pythons-range-function-explained/ .\n",
    "    print(\"i:\", i)\n",
    "\n",
    "# Notice no i += 1 statement!"
   ]
  },
  {
   "cell_type": "code",
   "execution_count": 9,
   "metadata": {
    "execution": {
     "iopub.execute_input": "2024-01-04T09:15:22.894008Z",
     "iopub.status.busy": "2024-01-04T09:15:22.893151Z",
     "iopub.status.idle": "2024-01-04T09:15:22.899350Z",
     "shell.execute_reply": "2024-01-04T09:15:22.898279Z"
    }
   },
   "outputs": [
    {
     "name": "stdout",
     "output_type": "stream",
     "text": [
      "word: 16a\n"
     ]
    }
   ],
   "source": [
    "# Example 5: Iterating through lists\n",
    "\n",
    "char_list = [1, 6, \"a\"]\n",
    "word = \"\"\n",
    "\n",
    "for element in char_list:\n",
    "    word += str(element)\n",
    "\n",
    "print(\"word:\", word)"
   ]
  },
  {
   "attachments": {},
   "cell_type": "markdown",
   "metadata": {},
   "source": [
    "All of the loop examples so far have terminated with some sort of stopping condition (ex. i < 5, i in range(0,5), element in char_list). But what if we wanted to exit a loop early? Or, what if we wanted to immediately go to the next loop iteration? These two changes can be applied using the **break** and **continue** statements, respectively.\n",
    "\n",
    "**break** will completely break out of the `for` or `while` loop it is in and skip any iterations it would have potentially gone through afterwards.\n",
    "\n",
    "**continue** will skip only the current iteration and jump to the beginning of the next one."
   ]
  },
  {
   "cell_type": "code",
   "execution_count": 10,
   "metadata": {
    "execution": {
     "iopub.execute_input": "2024-01-04T09:15:22.913340Z",
     "iopub.status.busy": "2024-01-04T09:15:22.912063Z",
     "iopub.status.idle": "2024-01-04T09:15:22.919398Z",
     "shell.execute_reply": "2024-01-04T09:15:22.918368Z"
    }
   },
   "outputs": [
    {
     "name": "stdout",
     "output_type": "stream",
     "text": [
      "Loop without break statement.\n",
      "Skittles\n",
      "Snickers\n",
      "3 Musketeers\n",
      "Twizzlers\n",
      "Kit-Kat\n",
      "Twix\n",
      "Almond Joy\n",
      "\n",
      "Loop with break statement.\n",
      "Skittles\n",
      "Snickers\n",
      "3 Musketeers\n",
      "Twizzlers\n",
      "Kit-Kat\n"
     ]
    }
   ],
   "source": [
    "# Example 6: The break statement\n",
    "\n",
    "candies = [\n",
    "    \"Skittles\",\n",
    "    \"Snickers\",\n",
    "    \"3 Musketeers\",\n",
    "    \"Twizzlers\",\n",
    "    \"Kit-Kat\",\n",
    "    \"Twix\",\n",
    "    \"Almond Joy\",\n",
    "]\n",
    "\n",
    "print(\"Loop without break statement.\")\n",
    "for candy in candies:\n",
    "    print(candy)\n",
    "\n",
    "print(\"\\nLoop with break statement.\")  # '\\n' denotes a new line\n",
    "for candy in candies:\n",
    "    print(candy)\n",
    "    if candy == \"Kit-Kat\":\n",
    "        break"
   ]
  },
  {
   "cell_type": "code",
   "execution_count": 11,
   "metadata": {
    "execution": {
     "iopub.execute_input": "2024-01-04T09:15:22.924885Z",
     "iopub.status.busy": "2024-01-04T09:15:22.924400Z",
     "iopub.status.idle": "2024-01-04T09:15:22.930931Z",
     "shell.execute_reply": "2024-01-04T09:15:22.930603Z"
    }
   },
   "outputs": [
    {
     "name": "stdout",
     "output_type": "stream",
     "text": [
      "Same Loop as above but with continue instead of break statement.\n",
      "Skittles\n",
      "Snickers\n",
      "3 Musketeers\n",
      "Twizzlers\n",
      "Kit-Kat\n",
      "Twix\n",
      "Almond Joy\n",
      "\n",
      "Loop that skips over every-other candy.\n",
      "Skittles\n",
      "3 Musketeers\n",
      "Kit-Kat\n",
      "Almond Joy\n"
     ]
    }
   ],
   "source": [
    "# Example 7: The continue statement\n",
    "\n",
    "candies = [\n",
    "    \"Skittles\",\n",
    "    \"Snickers\",\n",
    "    \"3 Musketeers\",\n",
    "    \"Twizzlers\",\n",
    "    \"Kit-Kat\",\n",
    "    \"Twix\",\n",
    "    \"Almond Joy\",\n",
    "]\n",
    "\n",
    "print(\"Same Loop as above but with continue instead of break statement.\")\n",
    "for candy in candies:\n",
    "    print(candy)\n",
    "    if candy == \"Kit-Kat\":\n",
    "        continue\n",
    "\n",
    "print(\"\\nLoop that skips over every-other candy.\")\n",
    "for i in range(len(candies)):\n",
    "    if (\n",
    "        i % 2 == 1\n",
    "    ):  # if i is odd. The \"%\" symbol is the modulo operator: https://en.wikipedia.org/wiki/Modulo_operation\n",
    "        continue\n",
    "    print(candies[i])"
   ]
  },
  {
   "attachments": {},
   "cell_type": "markdown",
   "metadata": {},
   "source": [
    "In the first loop, the `continue` statement is at the end of the loop and will not skip anything, thus printing all the candies. However, in the second loop, the `continue` will potentially skip over the print statement. **Notice how the continue statement enabled us to skip over every other candy.**"
   ]
  },
  {
   "attachments": {},
   "cell_type": "markdown",
   "metadata": {},
   "source": [
    "<a id='lst'></a>\n",
    "## List Comprehension\n",
    "\n",
    "There are multiple ways of creating lists in Python. If you recall from the first discussion, a list is a mutable array of data. They can be created using square brackets [ ]. Elements in the list are separated by commas. Elements can be of any type (int, string, float, etc.).\n",
    "\n",
    "Important Python List functions: \n",
    "\n",
    "- `'+'` joins lists and creates a *new* list. \n",
    "\n",
    "- `len(x)` to get the length of list `x`\n",
    "\n",
    "\n",
    "Next, we will explore the idea of list comprehension, which is a compact way of creating a list from a for-loop in a single line. Please keep in mind that list comprehension is just a style suggestion; any list comprehension can be expanded to a fully fleshed out control-loop block. However, the advantage of list comprehensions is their compact yet expressive syntax.\n",
    "\n",
    "\n",
    "**For the example below, our goal is to create a list of the squares of each even integer in the range from 0 to 10 (inclusive).**"
   ]
  },
  {
   "cell_type": "code",
   "execution_count": 12,
   "metadata": {
    "execution": {
     "iopub.execute_input": "2024-01-04T09:15:22.932782Z",
     "iopub.status.busy": "2024-01-04T09:15:22.932656Z",
     "iopub.status.idle": "2024-01-04T09:15:22.935001Z",
     "shell.execute_reply": "2024-01-04T09:15:22.934740Z"
    }
   },
   "outputs": [
    {
     "name": "stdout",
     "output_type": "stream",
     "text": [
      "[0, 4, 16, 36, 64, 100]\n"
     ]
    }
   ],
   "source": [
    "# Example 8a: for-loop list construction\n",
    "\n",
    "# Expected output: [0*0, 2*2, 4*4, 6*6, 8*8, 10*10], which equals: [0, 4, 16, 36, 64, 100]\n",
    "\n",
    "lst = []\n",
    "for i in range(11):  # iterate over numbers 0 through 10 (inclusive)\n",
    "    if i % 2 == 0:  # see example 7 for explanation of \"%\" symbol.\n",
    "        lst += [\n",
    "            i**2\n",
    "        ]  # '**' is Python syntax for raising the power. Alternatively: lst.append(i**2)\n",
    "\n",
    "print(lst)"
   ]
  },
  {
   "cell_type": "code",
   "execution_count": 13,
   "metadata": {
    "execution": {
     "iopub.execute_input": "2024-01-04T09:15:22.936667Z",
     "iopub.status.busy": "2024-01-04T09:15:22.936534Z",
     "iopub.status.idle": "2024-01-04T09:15:22.938747Z",
     "shell.execute_reply": "2024-01-04T09:15:22.938452Z"
    }
   },
   "outputs": [
    {
     "name": "stdout",
     "output_type": "stream",
     "text": [
      "[0, 4, 16, 36, 64, 100]\n"
     ]
    }
   ],
   "source": [
    "# Example 8b: List Comprehension\n",
    "\n",
    "lst = [i**2 for i in range(11) if i % 2 == 0]  # one-liner magic\n",
    "print(lst)"
   ]
  },
  {
   "attachments": {},
   "cell_type": "markdown",
   "metadata": {},
   "source": [
    "The syntax for a list comprehension is as follows:<br>\n",
    "**list = <span style=\"color:green\">[</span>**<span style=\"color:red\">function(</span>**ITEM**<span style=\"color:red\">)</span> **<span style=\"color:green\">for</span>** **ITEM** **<span style=\"color:green\">in</span>** <span style=\"color:orange\">ITERABLE_OBJECT</span> **<span style=\"color:green\">if</span>** <span style=\"color:blue\">condition(</span>**ITEM**<span style=\"color:blue\">)</span>**<span style=\"color:green\">]</span>**\n",
    "\n",
    "In example 8b above:<br>\n",
    "- **ITEM** = i<br>\n",
    "- <span style=\"color:orange\">ITERABLE_OBJECT</span> = range(11)<br>\n",
    "- <span style=\"color:red\">function()</span> = raise **ITEM** to the second power<br>\n",
    "- <span style=\"color:blue\">condition()</span> = is **ITEM** even?<br>\n",
    "\n",
    "A couple notes: \n",
    "- list comprehensions DO NOT require a condition\n",
    "- list comprehensions can have nested for-loops."
   ]
  },
  {
   "attachments": {},
   "cell_type": "markdown",
   "metadata": {},
   "source": [
    "<a id='numpy'></a>\n",
    "# NumPy\n",
    "\n",
    "### Pronounced NumPIE\n",
    "\n",
    "From the NumPy website, \"NumPy is the fundamental package for scientific computing with Python. It contains among other things: a powerful N-dimensional array object.\" For the purposes of this course, we primarily use NumPy for its fast and fancy matrix functions. In general, Python list operations are slow; NumPy functions exploit the NumPy array object to \"vectorize\" the code, which usually improves the runtime of matrix calculations. **As a general rule of thumb, if a task involves vectors or matrices, you should resort to NumPy.** In addition to speeding up basic operations, NumPy contains an enormous library of matrix functions, so if you ever need to manipulate a vector or matrix, NumPy most likely already has a function implemented to suit your needs.\n",
    "\n",
    "**Quintessential NumPy Documentation: http://docs.scipy.org/doc/numpy/reference/index.html**"
   ]
  },
  {
   "attachments": {},
   "cell_type": "markdown",
   "metadata": {},
   "source": [
    "**<span style=\"color:red\">Run the cell below to import the packages needed to complete this lab.</span>**"
   ]
  },
  {
   "cell_type": "code",
   "execution_count": 14,
   "metadata": {
    "execution": {
     "iopub.execute_input": "2024-01-04T09:15:22.940519Z",
     "iopub.status.busy": "2024-01-04T09:15:22.940395Z",
     "iopub.status.idle": "2024-01-04T09:15:22.942270Z",
     "shell.execute_reply": "2024-01-04T09:15:22.942026Z"
    }
   },
   "outputs": [],
   "source": [
    "import numpy as np  # from now on, we can access numpy functions by referencing \"np\" instead of numpy"
   ]
  },
  {
   "attachments": {},
   "cell_type": "markdown",
   "metadata": {},
   "source": [
    "<a id='arrays'></a>\n",
    "## Creating a NumPy array object\n",
    "\n",
    "NumPy is centered around the `numpy.array()` class. This array object is extremely useful, however, it is often confused with built-in Python lists, particularly when trying to represent vectors. NumPy arrays and Python Lists are NOT synonymous; you **cannot** simply apply functions to NumPy arrays as if they were Python Lists."
   ]
  },
  {
   "cell_type": "code",
   "execution_count": 15,
   "metadata": {
    "execution": {
     "iopub.execute_input": "2024-01-04T09:15:22.943865Z",
     "iopub.status.busy": "2024-01-04T09:15:22.943755Z",
     "iopub.status.idle": "2024-01-04T09:15:22.945990Z",
     "shell.execute_reply": "2024-01-04T09:15:22.945695Z"
    }
   },
   "outputs": [
    {
     "name": "stdout",
     "output_type": "stream",
     "text": [
      "Python list: [1, 2, 3, 4]\n",
      "NumPy array: [1 2 3 4]\n"
     ]
    }
   ],
   "source": [
    "# Example 9: Going from Python list to NumPy array\n",
    "\n",
    "py_lst = [1, 2, 3, 4]\n",
    "np_arr = np.array(py_lst)\n",
    "print(\"Python list:\", py_lst)\n",
    "print(\"NumPy array:\", np_arr)"
   ]
  },
  {
   "cell_type": "code",
   "execution_count": 16,
   "metadata": {
    "execution": {
     "iopub.execute_input": "2024-01-04T09:15:22.947784Z",
     "iopub.status.busy": "2024-01-04T09:15:22.947670Z",
     "iopub.status.idle": "2024-01-04T09:15:22.950099Z",
     "shell.execute_reply": "2024-01-04T09:15:22.949780Z"
    }
   },
   "outputs": [
    {
     "name": "stdout",
     "output_type": "stream",
     "text": [
      "[[0 1 2 3]\n",
      " [1 2 3 4]\n",
      " [2 3 4 5]\n",
      " [3 4 5 6]]\n"
     ]
    }
   ],
   "source": [
    "# Example 10: Populating an empty NumPy array\n",
    "\n",
    "np_arr = np.empty(\n",
    "    [4, 4], dtype=np.int32\n",
    ")  # Creates an empty 4x4 numpy array. dtype specifies the data type as integer here\n",
    "for i in range(4):\n",
    "    for j in range(4):\n",
    "        np_arr[i, j] = i + j\n",
    "\n",
    "print(np_arr)"
   ]
  },
  {
   "cell_type": "code",
   "execution_count": 17,
   "metadata": {
    "execution": {
     "iopub.execute_input": "2024-01-04T09:15:22.951655Z",
     "iopub.status.busy": "2024-01-04T09:15:22.951546Z",
     "iopub.status.idle": "2024-01-04T09:15:22.953911Z",
     "shell.execute_reply": "2024-01-04T09:15:22.953634Z"
    }
   },
   "outputs": [
    {
     "name": "stdout",
     "output_type": "stream",
     "text": [
      "np_zeros:\n",
      " [[0. 0. 0. 0. 0.]\n",
      " [0. 0. 0. 0. 0.]\n",
      " [0. 0. 0. 0. 0.]\n",
      " [0. 0. 0. 0. 0.]\n",
      " [0. 0. 0. 0. 0.]]\n",
      "\n",
      "np_id:\n",
      " [[1. 0. 0. 0. 0.]\n",
      " [0. 1. 0. 0. 0.]\n",
      " [0. 0. 1. 0. 0.]\n",
      " [0. 0. 0. 1. 0.]\n",
      " [0. 0. 0. 0. 1.]]\n"
     ]
    }
   ],
   "source": [
    "# Example 11: Creating a NumPy array of zeros and the Identity matrix\n",
    "\n",
    "np_zeros = np.zeros([5, 5])  # 5x5 NumPy array of all zeros\n",
    "np_id = np.eye(5)  # 5x5 Identity array\n",
    "\n",
    "print(\"np_zeros:\\n\", np_zeros)\n",
    "print(\"\\nnp_id:\\n\", np_id)"
   ]
  },
  {
   "cell_type": "code",
   "execution_count": 18,
   "metadata": {
    "execution": {
     "iopub.execute_input": "2024-01-04T09:15:22.955533Z",
     "iopub.status.busy": "2024-01-04T09:15:22.955401Z",
     "iopub.status.idle": "2024-01-04T09:15:22.958180Z",
     "shell.execute_reply": "2024-01-04T09:15:22.957889Z"
    }
   },
   "outputs": [
    {
     "name": "stdout",
     "output_type": "stream",
     "text": [
      "np_arr1: [0. 1. 2. 3. 4. 5. 6. 7. 8. 9.]\n",
      "np_arr2: [0 1 2 3 4 5 6 7 8 9]\n"
     ]
    }
   ],
   "source": [
    "# Example 12: Creating a NumPy array that spans a certain set/list of numbers\n",
    "\n",
    "\"\"\"numpy.linspace() is useful when you know the number of divisions over a certain range you want, \n",
    "i.e., you want to divide the range [0-9] into 10 equal divisions.\n",
    "\"\"\"\n",
    "np_arr1 = np.linspace(0, 9, 10)  # args for linspace(): (start, stop, num_divisions)\n",
    "print(\"np_arr1:\", np_arr1)\n",
    "\n",
    "\n",
    "\"\"\"numpy.arange() is useful when you know how far away each division is from one another, a.k.a. the step size.\n",
    "You want to start at 0 and get every number that is 1 away from the previous number until you get to 9.\n",
    "\"\"\"\n",
    "np_arr2 = np.arange(0, 10, 1)  # args for arange(): (start, stop, step)\n",
    "print(\"np_arr2:\", np_arr2)"
   ]
  },
  {
   "attachments": {},
   "cell_type": "markdown",
   "metadata": {},
   "source": [
    "### NumPy array vs. Python list\n",
    "\n",
    "Most arithmetic operations apply to NumPy arrays in element-wise fashion. This is in contrast with arithmetic operations for Python lists, which apply via concatenation."
   ]
  },
  {
   "cell_type": "code",
   "execution_count": 19,
   "metadata": {
    "execution": {
     "iopub.execute_input": "2024-01-04T09:15:22.959703Z",
     "iopub.status.busy": "2024-01-04T09:15:22.959582Z",
     "iopub.status.idle": "2024-01-04T09:15:22.962116Z",
     "shell.execute_reply": "2024-01-04T09:15:22.961836Z"
    }
   },
   "outputs": [
    {
     "name": "stdout",
     "output_type": "stream",
     "text": [
      "lst: [1, 2, 3]\n",
      "lst + lst = [1, 2, 3, 1, 2, 3]\n",
      "\n",
      "arr:\n",
      " [[1. 0. 0.]\n",
      " [0. 1. 0.]\n",
      " [0. 0. 1.]]\n",
      "arr + arr =\n",
      " [[2. 0. 0.]\n",
      " [0. 2. 0.]\n",
      " [0. 0. 2.]]\n"
     ]
    }
   ],
   "source": [
    "# Example 13: NumPy array vs. Python list\n",
    "\n",
    "lst = [1, 2, 3]\n",
    "arr = np.eye(3)\n",
    "\n",
    "lst2 = lst + lst\n",
    "arr2 = arr + arr\n",
    "\n",
    "print(\"lst:\", lst)\n",
    "print(\"lst + lst =\", lst2)\n",
    "print(\"\\narr:\\n\", arr)\n",
    "print(\"arr + arr =\\n\", arr2)"
   ]
  },
  {
   "attachments": {},
   "cell_type": "markdown",
   "metadata": {},
   "source": [
    "<a id='slice'></a>\n",
    "## NumPy array slicing\n",
    "\n",
    "Array slicing is a technique in Python (and other languages) that programmers use to extract specific index-based information from an array. Array slicing answers queries such as, \"What are the first/last n elements in this array?\", \"What are the elements in the first r rows and first c columns of this matrix?\", \"What is every nth element in this array?\""
   ]
  },
  {
   "cell_type": "code",
   "execution_count": 20,
   "metadata": {
    "execution": {
     "iopub.execute_input": "2024-01-04T09:15:22.963681Z",
     "iopub.status.busy": "2024-01-04T09:15:22.963579Z",
     "iopub.status.idle": "2024-01-04T09:15:22.965789Z",
     "shell.execute_reply": "2024-01-04T09:15:22.965546Z"
    }
   },
   "outputs": [
    {
     "name": "stdout",
     "output_type": "stream",
     "text": [
      "\n",
      "First ten elements of simple_arr: [0 1 2 3 4 5 6 7 8 9]\n",
      "\n",
      "Last ten elements of simple_arr: [90 91 92 93 94 95 96 97 98 99]\n",
      "\n",
      "Elements 16-25 of simple_arr: [16 17 18 19 20 21 22 23 24 25]\n"
     ]
    }
   ],
   "source": [
    "# Example 14: Basic vector/list slicing\n",
    "\n",
    "simple_arr = np.arange(0, 100, 1)\n",
    "\n",
    "print(\"\\nFirst ten elements of simple_arr:\", simple_arr[:10])\n",
    "print(\n",
    "    \"\\nLast ten elements of simple_arr:\", simple_arr[-10:]\n",
    ")  # you should be aware that in Python,\n",
    "# requesting a negative index (-n) from list a is the same as requesting is equivalent to requesting a[len(a)-n].\n",
    "print(\n",
    "    \"\\nElements 16-25 of simple_arr:\", simple_arr[16:26]\n",
    ")  # Notice slicing includes the first index and excludes that last index."
   ]
  },
  {
   "attachments": {},
   "cell_type": "markdown",
   "metadata": {},
   "source": [
    "**<span style=\"color:red\">Slicing includes the start index and excludes the end index, i.e. `simple_arr[16:26]` means to extract the values in `simple_arr` at indices in the range `[16,26)` which is the same as `[16,25]` since indices can only be integers.</span>**"
   ]
  },
  {
   "cell_type": "code",
   "execution_count": 21,
   "metadata": {
    "execution": {
     "iopub.execute_input": "2024-01-04T09:15:22.967262Z",
     "iopub.status.busy": "2024-01-04T09:15:22.967162Z",
     "iopub.status.idle": "2024-01-04T09:15:22.969379Z",
     "shell.execute_reply": "2024-01-04T09:15:22.969130Z"
    }
   },
   "outputs": [
    {
     "name": "stdout",
     "output_type": "stream",
     "text": [
      "\n",
      "Every-other element of simple_arr, starting from 0: [ 0  2  4  6  8 10 12 14 16 18]\n",
      "\n",
      "Every-third element of simple_arr, starting from 0: [ 0  3  6  9 12 15 18]\n",
      "\n",
      "Every-other element of simple_arr, starting from 10-16: [10 12 14]\n"
     ]
    }
   ],
   "source": [
    "# Example 15: Some fancy vector/list slicing\n",
    "\n",
    "simple_arr = np.arange(0, 20, 1)\n",
    "\n",
    "print(\"\\nEvery-other element of simple_arr, starting from 0:\", simple_arr[::2])\n",
    "print(\"\\nEvery-third element of simple_arr, starting from 0:\", simple_arr[::3])\n",
    "print(\"\\nEvery-other element of simple_arr, starting from 10-16:\", simple_arr[10:16:2])"
   ]
  },
  {
   "cell_type": "code",
   "execution_count": 22,
   "metadata": {
    "execution": {
     "iopub.execute_input": "2024-01-04T09:15:22.970866Z",
     "iopub.status.busy": "2024-01-04T09:15:22.970750Z",
     "iopub.status.idle": "2024-01-04T09:15:22.973648Z",
     "shell.execute_reply": "2024-01-04T09:15:22.973389Z"
    }
   },
   "outputs": [
    {
     "name": "stdout",
     "output_type": "stream",
     "text": [
      "i:\n",
      " [[ 0  1  2  3  4]\n",
      " [ 5  6  7  8  9]\n",
      " [10 11 12 13 14]\n",
      " [15 16 17 18 19]\n",
      " [20 21 22 23 24]]\n",
      "\n",
      "First row of i: [0 1 2 3 4]\n",
      "\n",
      "First column of i: [ 0  5 10 15 20]\n",
      "\n",
      "Rows 1-3 of i:\n",
      " [[ 5  6  7  8  9]\n",
      " [10 11 12 13 14]\n",
      " [15 16 17 18 19]]\n",
      "\n",
      "Columns 1-3 of i:\n",
      " [[ 1  2  3]\n",
      " [ 6  7  8]\n",
      " [11 12 13]\n",
      " [16 17 18]\n",
      " [21 22 23]]\n",
      "\n",
      "Top left 3x3 of i:\n",
      " [[ 0  1  2]\n",
      " [ 5  6  7]\n",
      " [10 11 12]]\n",
      "\n",
      "Every-other column of i:\n",
      " [[ 0  2  4]\n",
      " [ 5  7  9]\n",
      " [10 12 14]\n",
      " [15 17 19]\n",
      " [20 22 24]]\n"
     ]
    }
   ],
   "source": [
    "# Example 16: Slicing NumPy arrays\n",
    "\n",
    "i = np.array(range(25), dtype=np.int32).reshape(\n",
    "    [5, 5]\n",
    ")  # numpy.reshape() will be introduced in Example 18\n",
    "print(\"i:\\n\", i)\n",
    "\n",
    "print(\"\\nFirst row of i:\", i[0])\n",
    "print(\"\\nFirst column of i:\", i[:, 0])  # this includes all rows in column 0 of i\n",
    "print(\"\\nRows 1-3 of i:\\n\", i[1:4])\n",
    "print(\"\\nColumns 1-3 of i:\\n\", i[:, 1:4])\n",
    "print(\"\\nTop left 3x3 of i:\\n\", i[:3, :3])\n",
    "print(\"\\nEvery-other column of i:\\n\", i[:, ::2])"
   ]
  },
  {
   "cell_type": "code",
   "execution_count": 23,
   "metadata": {
    "execution": {
     "iopub.execute_input": "2024-01-04T09:15:22.975103Z",
     "iopub.status.busy": "2024-01-04T09:15:22.975001Z",
     "iopub.status.idle": "2024-01-04T09:15:22.977520Z",
     "shell.execute_reply": "2024-01-04T09:15:22.977268Z"
    }
   },
   "outputs": [
    {
     "name": "stdout",
     "output_type": "stream",
     "text": [
      "j (5x5 NumPy array of all zeros):\n",
      " [[0. 0. 0. 0. 0.]\n",
      " [0. 0. 0. 0. 0.]\n",
      " [0. 0. 0. 0. 0.]\n",
      " [0. 0. 0. 0. 0.]\n",
      " [0. 0. 0. 0. 0.]]\n",
      "\n",
      "inner (3x3 Numpy array of all ones):\n",
      " [[1. 1. 1.]\n",
      " [1. 1. 1.]\n",
      " [1. 1. 1.]]\n",
      "\n",
      "j:\n",
      " [[0. 0. 0. 0. 0.]\n",
      " [0. 1. 1. 1. 0.]\n",
      " [0. 1. 1. 1. 0.]\n",
      " [0. 1. 1. 1. 0.]\n",
      " [0. 0. 0. 0. 0.]]\n",
      "\n",
      " Notice how the values of inner are assigned to the 3x3 slice at the centre of j!\n"
     ]
    }
   ],
   "source": [
    "# Example 17: Slice Assignment\n",
    "\n",
    "j = np.zeros([5, 5])  # 5x5 NumPy array of all zeros\n",
    "print(\"j (5x5 NumPy array of all zeros):\\n\", j)\n",
    "\n",
    "inner = np.ones([3, 3])  # 3x3 Numpy array of all ones\n",
    "print(\"\\ninner (3x3 Numpy array of all ones):\\n\", inner)\n",
    "\n",
    "j[1:4, 1:4] = inner  # Assigning inner to a particular part/slice of j\n",
    "print(\"\\nj:\\n\", j)\n",
    "print(\n",
    "    \"\\n Notice how the values of inner are assigned to the 3x3 slice at the centre of j!\"\n",
    ")"
   ]
  },
  {
   "attachments": {},
   "cell_type": "markdown",
   "metadata": {},
   "source": [
    "### Slicing Summary\n",
    "\n",
    "Slicing a NumPy array arr follows the syntax below:<br> <br>\n",
    "arr[<span style=\"color:green\">row_start_index</span><span style=\"color:blue\">:</span><span style=\"color:red\">row_end_index</span><span style=\"color:blue\">:</span><span style=\"color:orange\">row_step_size</span> , <span style=\"color:green\">col_start_index</span><span style=\"color:blue\">:</span><span style=\"color:red\">col_end_index</span><span style=\"color:blue\">:</span><span style=\"color:orange\">col_step_size</span>]\n",
    " \n",
    "- <span style=\"color:green\">start indices</span> are inclusive and default to 0\n",
    "- <span style=\"color:red\">end indices</span> are exclusive and default to len(arr)\n",
    "- <span style=\"color:orange\">step sizes</span> default to 1\n",
    "\n",
    "arr[<span style=\"color:green\">start_index</span><span style=\"color:blue\">:</span><span style=\"color:red\">end_index</span><span style=\"color:blue\">:</span><span style=\"color:orange\">step_size</span>] slices rows according to the specified arguments while selecting all columns.\n",
    "\n",
    "arr[ , <span style=\"color:green\">start_index</span><span style=\"color:blue\">:</span><span style=\"color:red\">end_index</span><span style=\"color:blue\">:</span><span style=\"color:orange\">step_size</span>] slices columns according to the specified arguments while selecting all rows."
   ]
  },
  {
   "attachments": {},
   "cell_type": "markdown",
   "metadata": {},
   "source": [
    "### NumPy array reshaping\n",
    "\n",
    "Reshaping is useful when you want to do something such as turn a vector into a matrix or vice-versa. We want to be able to do this because it is often easier to construct the desired array as a vector then reshape the vector into a matrix."
   ]
  },
  {
   "cell_type": "code",
   "execution_count": 24,
   "metadata": {
    "execution": {
     "iopub.execute_input": "2024-01-04T09:15:22.979161Z",
     "iopub.status.busy": "2024-01-04T09:15:22.979059Z",
     "iopub.status.idle": "2024-01-04T09:15:22.980976Z",
     "shell.execute_reply": "2024-01-04T09:15:22.980734Z"
    }
   },
   "outputs": [
    {
     "name": "stdout",
     "output_type": "stream",
     "text": [
      "Shape of test_arr: (15, 189)\n",
      "Number of elements in test_arr: 2835\n"
     ]
    }
   ],
   "source": [
    "# Example 18: Determining the shape of a NumPy array\n",
    "\n",
    "test_arr = np.zeros([15, 189])\n",
    "\n",
    "print(\n",
    "    \"Shape of test_arr:\", test_arr.shape\n",
    ")  # Notice .shape is a NumPy array property NOT a function, i.e. no parenthesis.\n",
    "print(\"Number of elements in test_arr:\", test_arr.size)"
   ]
  },
  {
   "cell_type": "code",
   "execution_count": 25,
   "metadata": {
    "execution": {
     "iopub.execute_input": "2024-01-04T09:15:22.982526Z",
     "iopub.status.busy": "2024-01-04T09:15:22.982305Z",
     "iopub.status.idle": "2024-01-04T09:15:22.985018Z",
     "shell.execute_reply": "2024-01-04T09:15:22.984789Z"
    }
   },
   "outputs": [
    {
     "name": "stdout",
     "output_type": "stream",
     "text": [
      "\n",
      "test_arr: [ 0  1  2  3  4  5  6  7  8  9 10 11 12 13 14 15]\n",
      "Shape of test_arr: (16,)\n",
      "\n",
      "Reshaped test_arr:\n",
      " [[ 0  1  2  3]\n",
      " [ 4  5  6  7]\n",
      " [ 8  9 10 11]\n",
      " [12 13 14 15]]\n",
      "Shape of test_arr_4x4: (4, 4)\n",
      "\n",
      "test_arr back as a vector: [ 0  1  2  3  4  5  6  7  8  9 10 11 12 13 14 15]\n",
      "Shape of test_arr_vec: (16,)\n"
     ]
    }
   ],
   "source": [
    "# Example 19: Using reshape()\n",
    "\n",
    "test_arr = np.array(range(16), dtype=np.int32)\n",
    "print(\"\\ntest_arr:\", test_arr)\n",
    "print(\"Shape of test_arr:\", test_arr.shape)\n",
    "\n",
    "test_arr_4x4 = test_arr.reshape(\n",
    "    [4, 4]\n",
    ")  # Notice reshape() is called on the array object, i.e. array.reshape(dimensions) NOT np.reshape(arr, dimensions)!\n",
    "print(\"\\nReshaped test_arr:\\n\", test_arr_4x4)\n",
    "print(\"Shape of test_arr_4x4:\", test_arr_4x4.shape)\n",
    "\n",
    "test_arr_vec = test_arr_4x4.reshape(\n",
    "    test_arr_4x4.size\n",
    ")  # Use array.flatten() instead. This is just to show array.reshape works in both directions.\n",
    "print(\"\\ntest_arr back as a vector:\", test_arr_vec)\n",
    "print(\"Shape of test_arr_vec:\", test_arr_vec.shape)"
   ]
  },
  {
   "attachments": {},
   "cell_type": "markdown",
   "metadata": {},
   "source": [
    "<a id='funcs'></a>\n",
    "## Useful NumPy functions: (transpose(), linalg.inv(), dot(), concatenate(), vstack(), hstack(), max(), argmax())\n",
    "\n",
    "**Quintessential NumPy Documentation: http://docs.scipy.org/doc/numpy/reference/index.html**"
   ]
  },
  {
   "cell_type": "code",
   "execution_count": 26,
   "metadata": {
    "execution": {
     "iopub.execute_input": "2024-01-04T09:15:22.986547Z",
     "iopub.status.busy": "2024-01-04T09:15:22.986450Z",
     "iopub.status.idle": "2024-01-04T09:15:22.988755Z",
     "shell.execute_reply": "2024-01-04T09:15:22.988489Z"
    }
   },
   "outputs": [
    {
     "name": "stdout",
     "output_type": "stream",
     "text": [
      "\n",
      "norm:\n",
      " [[ 0  1  2  3]\n",
      " [ 4  5  6  7]\n",
      " [ 8  9 10 11]\n",
      " [12 13 14 15]]\n",
      "\n",
      "norm_transpose:\n",
      " [[ 0  4  8 12]\n",
      " [ 1  5  9 13]\n",
      " [ 2  6 10 14]\n",
      " [ 3  7 11 15]]\n",
      "\n",
      "norm easy transpose:\n",
      " [[ 0  4  8 12]\n",
      " [ 1  5  9 13]\n",
      " [ 2  6 10 14]\n",
      " [ 3  7 11 15]]\n"
     ]
    }
   ],
   "source": [
    "# Example 20: numpy.transpose()\n",
    "\n",
    "norm = np.array(range(16), dtype=np.int32).reshape([4, 4])\n",
    "print(\"\\nnorm:\\n\", norm)\n",
    "\n",
    "norm_transpose = np.transpose(norm)\n",
    "print(\"\\nnorm_transpose:\\n\", norm_transpose)\n",
    "\n",
    "print(\"\\nnorm easy transpose:\\n\", norm.T)  # numpy.transpose(arr) == arr.T"
   ]
  },
  {
   "cell_type": "code",
   "execution_count": 27,
   "metadata": {
    "execution": {
     "iopub.execute_input": "2024-01-04T09:15:22.990245Z",
     "iopub.status.busy": "2024-01-04T09:15:22.990145Z",
     "iopub.status.idle": "2024-01-04T09:15:22.992777Z",
     "shell.execute_reply": "2024-01-04T09:15:22.992427Z"
    }
   },
   "outputs": [
    {
     "name": "stdout",
     "output_type": "stream",
     "text": [
      "\n",
      "i:\n",
      " [[1. 0. 0. 0.]\n",
      " [0. 1. 0. 0.]\n",
      " [0. 0. 1. 0.]\n",
      " [0. 0. 0. 1.]]\n",
      "\n",
      "i_inv:\n",
      " [[1. 0. 0. 0.]\n",
      " [0. 1. 0. 0.]\n",
      " [0. 0. 1. 0.]\n",
      " [0. 0. 0. 1.]]\n",
      "\n",
      "As expected, i == inv(i).\n"
     ]
    }
   ],
   "source": [
    "# Example 21: numpy.linalg.inv (finds the inverse of a matrix)\n",
    "\n",
    "i = np.eye(4)\n",
    "print(\"\\ni:\\n\", i)\n",
    "\n",
    "i_inv = np.linalg.inv(i)  # Notice .inv() is a function in the linalg library of NumPy.\n",
    "print(\"\\ni_inv:\\n\", i_inv)\n",
    "print(\"\\nAs expected, i == inv(i).\")"
   ]
  },
  {
   "cell_type": "code",
   "execution_count": 28,
   "metadata": {
    "execution": {
     "iopub.execute_input": "2024-01-04T09:15:22.994510Z",
     "iopub.status.busy": "2024-01-04T09:15:22.994388Z",
     "iopub.status.idle": "2024-01-04T09:15:22.998109Z",
     "shell.execute_reply": "2024-01-04T09:15:22.997786Z"
    }
   },
   "outputs": [
    {
     "name": "stdout",
     "output_type": "stream",
     "text": [
      "\n",
      "a:\n",
      " [[2 3]\n",
      " [4 5]]\n",
      "\n",
      "b:\n",
      " [[1 2]\n",
      " [0 2]]\n",
      "\n",
      "Matrix multiplication.\n",
      "a*b:\n",
      " [[ 2 10]\n",
      " [ 4 18]]\n",
      "\n",
      "Order matters in numpy.dot()!\n",
      "b*a:\n",
      " [[10 13]\n",
      " [ 8 10]]\n",
      "Notice a*b != b*a.\n",
      "\n",
      "Nesting numpy.dot() to perform repeated multiplication.\n",
      "b*b*a:\n",
      " [[26 33]\n",
      " [16 20]]\n",
      "\n",
      "f: [2 2]\n",
      "\n",
      "numpy.dot() can be used to multiply an array and vector too.\n",
      "a*f: [10 18]\n"
     ]
    }
   ],
   "source": [
    "# Example 22: numpy.dot() (how to do matrix multiplication in NumPy!)\n",
    "\n",
    "a = np.array([[2, 3], [4, 5]])\n",
    "print(\"\\na:\\n\", a)\n",
    "b = np.array([[1, 2], [0, 2]])\n",
    "print(\"\\nb:\\n\", b)\n",
    "\n",
    "print(\"\\nMatrix multiplication.\")\n",
    "c = np.dot(a, b)\n",
    "print(\"a*b:\\n\", c)\n",
    "\n",
    "print(\"\\nOrder matters in numpy.dot()!\")\n",
    "d = np.dot(b, a)\n",
    "print(\"b*a:\\n\", d)\n",
    "print(\"Notice a*b != b*a.\")\n",
    "\n",
    "print(\"\\nNesting numpy.dot() to perform repeated multiplication.\")\n",
    "e = np.dot(\n",
    "    b, np.dot(b, a)\n",
    ")  # this is equivalent to d = np.dot(b,a) followed by e = np.dot(b, d)\n",
    "print(\"b*b*a:\\n\", e)\n",
    "\n",
    "f = np.array([2, 2])\n",
    "print(\"\\nf:\", f)\n",
    "\n",
    "print(\"\\nnumpy.dot() can be used to multiply an array and vector too.\")\n",
    "g = np.dot(a, f)\n",
    "print(\"a*f:\", g)"
   ]
  },
  {
   "cell_type": "code",
   "execution_count": 29,
   "metadata": {
    "execution": {
     "iopub.execute_input": "2024-01-04T09:15:22.999921Z",
     "iopub.status.busy": "2024-01-04T09:15:22.999820Z",
     "iopub.status.idle": "2024-01-04T09:15:23.002833Z",
     "shell.execute_reply": "2024-01-04T09:15:23.002548Z"
    }
   },
   "outputs": [
    {
     "name": "stdout",
     "output_type": "stream",
     "text": [
      "\n",
      "a:\n",
      " [[2 3]\n",
      " [4 5]]\n",
      "\n",
      "b:\n",
      " [[1 2]\n",
      " [0 2]]\n",
      "\n",
      "Append b to the \"bottom\" of a:\n",
      " [[2 3]\n",
      " [4 5]\n",
      " [1 2]\n",
      " [0 2]]\n",
      "\n",
      "Append b to the \"right\" of a:\n",
      " [[2 3 1 2]\n",
      " [4 5 0 2]]\n"
     ]
    }
   ],
   "source": [
    "# Example 23: numpy.concatenate() (how to append/attach multiple arrays.)\n",
    "\n",
    "a = np.array([[2, 3], [4, 5]])\n",
    "print(\"\\na:\\n\", a)\n",
    "b = np.array([[1, 2], [0, 2]])\n",
    "print(\"\\nb:\\n\", b)\n",
    "\n",
    "c = np.concatenate(\n",
    "    [a, b], axis=0\n",
    ")  # axis controls how to concatenate the arrays. axis=0 attach vertically, axis=1 attach horizontally.\n",
    "print('\\nAppend b to the \"bottom\" of a:\\n', c)\n",
    "\n",
    "d = np.concatenate([a, b], axis=1)\n",
    "print('\\nAppend b to the \"right\" of a:\\n', d)"
   ]
  },
  {
   "cell_type": "code",
   "execution_count": 30,
   "metadata": {
    "execution": {
     "iopub.execute_input": "2024-01-04T09:15:23.004605Z",
     "iopub.status.busy": "2024-01-04T09:15:23.004469Z",
     "iopub.status.idle": "2024-01-04T09:15:23.007421Z",
     "shell.execute_reply": "2024-01-04T09:15:23.007113Z"
    }
   },
   "outputs": [
    {
     "name": "stdout",
     "output_type": "stream",
     "text": [
      "\n",
      "a:\n",
      " [[2 3]\n",
      " [4 5]]\n",
      "\n",
      "b:\n",
      " [[1 2]\n",
      " [0 2]]\n",
      "\n",
      "vstack a and b:\n",
      " [[2 3]\n",
      " [4 5]\n",
      " [1 2]\n",
      " [0 2]]\n",
      "Notice this is equivalent to concatenate with axis=0.\n",
      "\n",
      "hstack a and b:\n",
      " [[2 3 1 2]\n",
      " [4 5 0 2]]\n",
      "Notice this is equivalent to concatenate with axis=1.\n"
     ]
    }
   ],
   "source": [
    "# Example 24: numpy.vstack() and numpy.hstack()\n",
    "\n",
    "a = np.array([[2, 3], [4, 5]])\n",
    "print(\"\\na:\\n\", a)\n",
    "b = np.array([[1, 2], [0, 2]])\n",
    "print(\"\\nb:\\n\", b)\n",
    "\n",
    "c = np.vstack([a, b])\n",
    "print(\"\\nvstack a and b:\\n\", c)\n",
    "print(\"Notice this is equivalent to concatenate with axis=0.\")\n",
    "\n",
    "d = np.hstack([a, b])\n",
    "print(\"\\nhstack a and b:\\n\", d)\n",
    "print(\"Notice this is equivalent to concatenate with axis=1.\")"
   ]
  },
  {
   "attachments": {},
   "cell_type": "markdown",
   "metadata": {},
   "source": [
    "<a id='misc'></a>\n",
    "# Miscellaneous Functions"
   ]
  },
  {
   "cell_type": "code",
   "execution_count": 31,
   "metadata": {
    "execution": {
     "iopub.execute_input": "2024-01-04T09:15:23.009274Z",
     "iopub.status.busy": "2024-01-04T09:15:23.009128Z",
     "iopub.status.idle": "2024-01-04T09:15:23.011452Z",
     "shell.execute_reply": "2024-01-04T09:15:23.011170Z"
    }
   },
   "outputs": [
    {
     "name": "stdout",
     "output_type": "stream",
     "text": [
      "a: 16.5\n",
      "floor of a: 16.0\n",
      "ceiling of a: 17.0\n"
     ]
    }
   ],
   "source": [
    "# Example 25: np.floor(), np.ceil()\n",
    "\n",
    "a = 16.5\n",
    "print(\"a:\", a)\n",
    "print(\"floor of a:\", np.floor(a))\n",
    "print(\"ceiling of a:\", np.ceil(a))"
   ]
  },
  {
   "cell_type": "code",
   "execution_count": 32,
   "metadata": {
    "execution": {
     "iopub.execute_input": "2024-01-04T09:15:23.013236Z",
     "iopub.status.busy": "2024-01-04T09:15:23.013098Z",
     "iopub.status.idle": "2024-01-04T09:15:23.015599Z",
     "shell.execute_reply": "2024-01-04T09:15:23.015301Z"
    }
   },
   "outputs": [
    {
     "name": "stdout",
     "output_type": "stream",
     "text": [
      "a: [ 0  1  2  3 16  3  2  1  0]\n",
      "max of a = 16\n",
      "min of a = 0\n",
      "index of max value of a = 4\n",
      "index of min value of a = 0\n"
     ]
    }
   ],
   "source": [
    "# Example 26: np.max(), np.min(), np.argmax(), np.argmin()\n",
    "\n",
    "a = np.array([0, 1, 2, 3, 16, 3, 2, 1, 0])\n",
    "print(\"a:\", a)\n",
    "print(\"max of a =\", np.max(a))\n",
    "print(\"min of a =\", np.min(a))\n",
    "print(\"index of max value of a =\", np.argmax(a))\n",
    "print(\"index of min value of a =\", np.argmin(a))"
   ]
  },
  {
   "attachments": {},
   "cell_type": "markdown",
   "metadata": {},
   "source": [
    "<a id='qs'></a>\n",
    "# Questions\n",
    "\n",
    "These questions are in no particular order (except for question 0, do that one first). The questions range in difficulty; some are one-liners, others require a lot more thinking. Don't be discouraged if you hit a roadblock. Talk to your neighbors and ask for help from the lab staff.\n",
    "\n",
    "### Question 0\n",
    "**<span style=\"color:red\">In order to test your code, plase run the cell below to load the autograder. There is a cell after each question that you can run in order to check your answer. The autograder is purposefully not very verbose.</span>**"
   ]
  },
  {
   "cell_type": "code",
   "execution_count": 33,
   "metadata": {
    "execution": {
     "iopub.execute_input": "2024-01-04T09:15:23.017397Z",
     "iopub.status.busy": "2024-01-04T09:15:23.017250Z",
     "iopub.status.idle": "2024-01-04T09:15:23.020533Z",
     "shell.execute_reply": "2024-01-04T09:15:23.020198Z"
    }
   },
   "outputs": [
    {
     "name": "stdout",
     "output_type": "stream",
     "text": [
      "Autograder loaded!\n",
      "Question 0 Passed!\n"
     ]
    }
   ],
   "source": [
    "%run autograder.py"
   ]
  },
  {
   "attachments": {},
   "cell_type": "markdown",
   "metadata": {},
   "source": [
    "### Question 1\n",
    "**<span style=\"color:red\">Search the NumPy documentation and/or the web for a NumPy function that can solve a system of linear equations of the form `Ax=b`. Once you've found the package and function, insert into the `func` placeholder below. Often Googling `Numpy` followed by the function you'd like will give you exactly what you want. Ex: Try searching `Numpy Matrix Solver`</span>**"
   ]
  },
  {
   "cell_type": "code",
   "execution_count": 34,
   "metadata": {
    "execution": {
     "iopub.execute_input": "2024-01-04T09:15:23.022237Z",
     "iopub.status.busy": "2024-01-04T09:15:23.022140Z",
     "iopub.status.idle": "2024-01-04T09:15:23.024259Z",
     "shell.execute_reply": "2024-01-04T09:15:23.023883Z"
    }
   },
   "outputs": [],
   "source": [
    "# find the missing package/function\n",
    "func = np.linalg.solve\n",
    "\n",
    "\n",
    "# Do not modify the code below\n",
    "def q1(A, b):\n",
    "    return func(A, b)"
   ]
  },
  {
   "cell_type": "code",
   "execution_count": 35,
   "metadata": {
    "execution": {
     "iopub.execute_input": "2024-01-04T09:15:23.025932Z",
     "iopub.status.busy": "2024-01-04T09:15:23.025834Z",
     "iopub.status.idle": "2024-01-04T09:15:23.027862Z",
     "shell.execute_reply": "2024-01-04T09:15:23.027560Z"
    }
   },
   "outputs": [
    {
     "name": "stdout",
     "output_type": "stream",
     "text": [
      "Question 1 Passed!\n"
     ]
    }
   ],
   "source": [
    "test_q1(q1)"
   ]
  },
  {
   "attachments": {},
   "cell_type": "markdown",
   "metadata": {},
   "source": [
    "### Question 2\n",
    "**<span style=\"color:red\">Given NumPy array A, return an array that consists of every entry of A that has an even row index and an odd column index. </span>**\n",
    "\n",
    "See [slicing](#slice) for examples on how to do array slicing."
   ]
  },
  {
   "cell_type": "code",
   "execution_count": 36,
   "metadata": {
    "execution": {
     "iopub.execute_input": "2024-01-04T09:15:23.029590Z",
     "iopub.status.busy": "2024-01-04T09:15:23.029503Z",
     "iopub.status.idle": "2024-01-04T09:15:23.031548Z",
     "shell.execute_reply": "2024-01-04T09:15:23.031209Z"
    }
   },
   "outputs": [],
   "source": [
    "def q2(A):\n",
    "    \"\"\"\n",
    "    Input:\n",
    "    A - MxN NumPy array\n",
    "\n",
    "    Output:\n",
    "    Returns an NumPy array that consists of every entry of A that has an even row index and has an odd column index.\n",
    "\n",
    "    Example:\n",
    "    A = np.array([[ 1  2  3  4  5]\n",
    "                  [ 6  7  8  9 10]\n",
    "                  [11 12 13 14 15]\n",
    "                  [16 17 18 19 20]\n",
    "                  [21 22 23 24 25]])\n",
    "\n",
    "    Output = np.array([[ 2  4]\n",
    "                       [12 14]\n",
    "                       [22 24]])\n",
    "    \"\"\"\n",
    "    return A[::2, 1::2]"
   ]
  },
  {
   "cell_type": "code",
   "execution_count": 37,
   "metadata": {
    "execution": {
     "iopub.execute_input": "2024-01-04T09:15:23.032936Z",
     "iopub.status.busy": "2024-01-04T09:15:23.032857Z",
     "iopub.status.idle": "2024-01-04T09:15:23.034488Z",
     "shell.execute_reply": "2024-01-04T09:15:23.034241Z"
    }
   },
   "outputs": [
    {
     "name": "stdout",
     "output_type": "stream",
     "text": [
      "Question 2 Passed!\n"
     ]
    }
   ],
   "source": [
    "test_q2(q2)"
   ]
  },
  {
   "attachments": {},
   "cell_type": "markdown",
   "metadata": {},
   "source": [
    "### Question 3\n",
    "**<span style=\"color:red\">Given an MxN NumPy array, first find the indices of the maximum value in each row of the array, then return the maximum index.</span>**\n",
    "\n",
    "Hint: There is a function to find the index of the maximum value in a vector.\n",
    "\n",
    "Hint 2: List Comprehensions and Iterators might be useful."
   ]
  },
  {
   "cell_type": "code",
   "execution_count": 38,
   "metadata": {
    "execution": {
     "iopub.execute_input": "2024-01-04T09:15:23.035880Z",
     "iopub.status.busy": "2024-01-04T09:15:23.035797Z",
     "iopub.status.idle": "2024-01-04T09:15:23.037997Z",
     "shell.execute_reply": "2024-01-04T09:15:23.037716Z"
    }
   },
   "outputs": [],
   "source": [
    "def q3(A):\n",
    "    \"\"\"\n",
    "    Input:\n",
    "    A - MxN NumPy array\n",
    "\n",
    "    Output:\n",
    "    Return the maximum index of maximum value in each row of A.\n",
    "\n",
    "    Example:\n",
    "    A = np.array([[0 1 0 0]\n",
    "                  [1 0 0 0]\n",
    "                  [0 0 0 0]\n",
    "                  [0 0 1 0]])\n",
    "\n",
    "    Output = 2\n",
    "\n",
    "    In row 0, we have maximum value 1 at index 1.\n",
    "    In row 1, we have maximum value 1 at index 0.\n",
    "    In row 2, we have maximum value 1 at index 0 (since that's the first occurence of 0).\n",
    "    In row 3, we have maximum value 1 at index 2.\n",
    "    Thus, the output should be the maximum index, which is 2.\n",
    "\n",
    "    \"\"\"\n",
    "    val = []\n",
    "\n",
    "    for r in A:\n",
    "        val.append(np.argmax(r))\n",
    "\n",
    "    return max(val)"
   ]
  },
  {
   "cell_type": "code",
   "execution_count": 39,
   "metadata": {
    "execution": {
     "iopub.execute_input": "2024-01-04T09:15:23.039508Z",
     "iopub.status.busy": "2024-01-04T09:15:23.039425Z",
     "iopub.status.idle": "2024-01-04T09:15:23.041061Z",
     "shell.execute_reply": "2024-01-04T09:15:23.040796Z"
    }
   },
   "outputs": [
    {
     "name": "stdout",
     "output_type": "stream",
     "text": [
      "Question 3 Passed!\n"
     ]
    }
   ],
   "source": [
    "test_q3(q3)"
   ]
  },
  {
   "attachments": {},
   "cell_type": "markdown",
   "metadata": {},
   "source": [
    "### Question 4\n",
    "**<span style=\"color:red\">Given two MxN NumPy arrays, copy every-other column of array A to the right side of array B. </span>**\n",
    "\n",
    "See [slicing](#slice) for examples on how to do array slicing."
   ]
  },
  {
   "cell_type": "code",
   "execution_count": 40,
   "metadata": {
    "execution": {
     "iopub.execute_input": "2024-01-04T09:15:23.042527Z",
     "iopub.status.busy": "2024-01-04T09:15:23.042448Z",
     "iopub.status.idle": "2024-01-04T09:15:23.044609Z",
     "shell.execute_reply": "2024-01-04T09:15:23.044275Z"
    }
   },
   "outputs": [],
   "source": [
    "def q4(A, B):\n",
    "    \"\"\"\n",
    "    Inputs:\n",
    "    A - MxN NumPy array\n",
    "    B - MxP NumPy array\n",
    "\n",
    "    Output:\n",
    "    Returns an Mx(P+(N/2)) NumPy array where every-other column of A is added to the right side of B in order,\n",
    "    starting from index 0.\n",
    "\n",
    "    Example:\n",
    "    A = np.array([[1,0,0,2]\n",
    "                  [0,1,0,2]\n",
    "                  [0,0,1,2]])\n",
    "    B = np.array([[1,2,3]\n",
    "                  [4,5,6]\n",
    "                  [7,8,9]])\n",
    "\n",
    "    Output = np.array([[1,2,3,1,0]\n",
    "                       [4,5,6,0,0]\n",
    "                       [7,8,9,0,1]])\n",
    "    \"\"\"\n",
    "    return np.concatenate((B, A[:, ::2]), axis=1)"
   ]
  },
  {
   "cell_type": "code",
   "execution_count": 41,
   "metadata": {
    "execution": {
     "iopub.execute_input": "2024-01-04T09:15:23.046146Z",
     "iopub.status.busy": "2024-01-04T09:15:23.046064Z",
     "iopub.status.idle": "2024-01-04T09:15:23.047915Z",
     "shell.execute_reply": "2024-01-04T09:15:23.047656Z"
    }
   },
   "outputs": [
    {
     "name": "stdout",
     "output_type": "stream",
     "text": [
      "Question 4 Passed!\n"
     ]
    }
   ],
   "source": [
    "test_q4(q4)"
   ]
  },
  {
   "attachments": {},
   "cell_type": "markdown",
   "metadata": {},
   "source": [
    "### Question 5\n",
    "**<span style=\"color:red\">For any given N, u = [1,2,3,...,N] and v = [2017,2018,2019,...,2017+N-1]. Write a function that returns a vector that contains the following sequence: [1`*`2017, 2`*`2018, 3`*`2019,...,N`*`(2017+N-1)]. Hint: you might want to create vectors u and v.</span>**"
   ]
  },
  {
   "cell_type": "code",
   "execution_count": 42,
   "metadata": {
    "execution": {
     "iopub.execute_input": "2024-01-04T09:15:23.049450Z",
     "iopub.status.busy": "2024-01-04T09:15:23.049366Z",
     "iopub.status.idle": "2024-01-04T09:15:23.051693Z",
     "shell.execute_reply": "2024-01-04T09:15:23.051421Z"
    }
   },
   "outputs": [],
   "source": [
    "def q5(N):\n",
    "    \"\"\"\n",
    "    Input:\n",
    "    N - number of elements in u and v.\n",
    "\n",
    "    Output:\n",
    "    Returns the sequence: np.array([1*2017,2*2018,...,N*(2017+N-1)])\n",
    "\n",
    "    Example:\n",
    "    N = 5\n",
    "\n",
    "    Output = np.array([ 2017  4036  6057  8080 10105])\n",
    "    \"\"\"\n",
    "\n",
    "    u = np.array([n for n in range(1, N + 1)])\n",
    "    v = np.array([n for n in range(2017, 2017 + N)])\n",
    "\n",
    "    return np.multiply(u, v)"
   ]
  },
  {
   "cell_type": "code",
   "execution_count": 43,
   "metadata": {
    "execution": {
     "iopub.execute_input": "2024-01-04T09:15:23.053169Z",
     "iopub.status.busy": "2024-01-04T09:15:23.053087Z",
     "iopub.status.idle": "2024-01-04T09:15:23.054765Z",
     "shell.execute_reply": "2024-01-04T09:15:23.054406Z"
    }
   },
   "outputs": [
    {
     "name": "stdout",
     "output_type": "stream",
     "text": [
      "Question 5 Passed!\n"
     ]
    }
   ],
   "source": [
    "test_q5(q5)"
   ]
  },
  {
   "attachments": {},
   "cell_type": "markdown",
   "metadata": {},
   "source": [
    "### Question 6\n",
    "**<span style=\"color:red\">Given a NumPy vector v, shift all of the elements in v by n steps to the right; values that \"fall off\" the right end of v get inserted at the beginning of v, thus the length of v is preserved. You can either attempt to implement this on your own, or, (hint hint) try searching for a related NumPy function that does some/all of the work for you... </span>**"
   ]
  },
  {
   "cell_type": "code",
   "execution_count": 44,
   "metadata": {
    "execution": {
     "iopub.execute_input": "2024-01-04T09:15:23.056321Z",
     "iopub.status.busy": "2024-01-04T09:15:23.056234Z",
     "iopub.status.idle": "2024-01-04T09:15:23.058361Z",
     "shell.execute_reply": "2024-01-04T09:15:23.058039Z"
    }
   },
   "outputs": [],
   "source": [
    "def q6(v, N=10):\n",
    "    \"\"\"\n",
    "    Input:\n",
    "    v = NumPy vector\n",
    "    N = number of steps to shift v to the right\n",
    "\n",
    "    Output:\n",
    "    Returns v shifted to the right by N steps.\n",
    "\n",
    "    Example:\n",
    "    v = np.array([0,1,2,3,4,5])\n",
    "    N = 3\n",
    "\n",
    "    Output = np.array([3,4,5,0,1,2])\n",
    "    \"\"\"\n",
    "\n",
    "    return np.roll(v, N)"
   ]
  },
  {
   "cell_type": "code",
   "execution_count": 45,
   "metadata": {
    "execution": {
     "iopub.execute_input": "2024-01-04T09:15:23.060119Z",
     "iopub.status.busy": "2024-01-04T09:15:23.060033Z",
     "iopub.status.idle": "2024-01-04T09:15:23.062226Z",
     "shell.execute_reply": "2024-01-04T09:15:23.061895Z"
    }
   },
   "outputs": [
    {
     "name": "stdout",
     "output_type": "stream",
     "text": [
      "Question 6 Passed!\n"
     ]
    }
   ],
   "source": [
    "test_q6(q6)"
   ]
  },
  {
   "attachments": {},
   "cell_type": "markdown",
   "metadata": {},
   "source": [
    "### Question 7\n",
    "**<span style=\"color:red\">Given an MxM identity matrix, convert this to an (M-N)x(M-N) identity matrix WITHOUT using numpy.eye().</span>**"
   ]
  },
  {
   "cell_type": "code",
   "execution_count": 46,
   "metadata": {
    "execution": {
     "iopub.execute_input": "2024-01-04T09:15:23.064062Z",
     "iopub.status.busy": "2024-01-04T09:15:23.063959Z",
     "iopub.status.idle": "2024-01-04T09:15:23.066425Z",
     "shell.execute_reply": "2024-01-04T09:15:23.066104Z"
    }
   },
   "outputs": [],
   "source": [
    "def q7(I=np.eye(10), N=4):\n",
    "    \"\"\"\n",
    "    Input:\n",
    "    I - MxM NumPy array representing the identity matrix\n",
    "    N - number of rows and columns to cut from I\n",
    "\n",
    "    Output:\n",
    "    Returns an (M-N)x(M-N) NumPy identity array.\n",
    "\n",
    "    Example:\n",
    "    I = np.eye(10)\n",
    "    N = 8\n",
    "\n",
    "    Output = np.array([[1,0]\n",
    "                       [0,1]])\n",
    "    \"\"\"\n",
    "\n",
    "    # YOUR CODE HERE; REMEMBER, YOU CANNOT USE np.eye()! Array Slicing is very helpful!\n",
    "    return I[: (I.shape[0] - N) :, : (I.shape[0] - N) :]"
   ]
  },
  {
   "cell_type": "code",
   "execution_count": 47,
   "metadata": {
    "execution": {
     "iopub.execute_input": "2024-01-04T09:15:23.068256Z",
     "iopub.status.busy": "2024-01-04T09:15:23.068114Z",
     "iopub.status.idle": "2024-01-04T09:15:23.070543Z",
     "shell.execute_reply": "2024-01-04T09:15:23.070193Z"
    }
   },
   "outputs": [
    {
     "name": "stdout",
     "output_type": "stream",
     "text": [
      "Question 7 Passed!\n"
     ]
    }
   ],
   "source": [
    "test_q7(q7)"
   ]
  },
  {
   "attachments": {},
   "cell_type": "markdown",
   "metadata": {},
   "source": [
    "### Question 8\n",
    "**<span style=\"color:red\">Given a square NxN NumPy array A, return a Python list of the values along the diagonal of A, sorted in descending order.</span>**\n",
    "\n",
    "Hint: Python has a `sort` function that can operate on lists, but not Numpy arrays."
   ]
  },
  {
   "cell_type": "code",
   "execution_count": 48,
   "metadata": {
    "execution": {
     "iopub.execute_input": "2024-01-04T09:15:23.072355Z",
     "iopub.status.busy": "2024-01-04T09:15:23.072221Z",
     "iopub.status.idle": "2024-01-04T09:15:23.074505Z",
     "shell.execute_reply": "2024-01-04T09:15:23.074171Z"
    }
   },
   "outputs": [],
   "source": [
    "def q8(A):\n",
    "    \"\"\"\n",
    "    Input:\n",
    "    A - NxN NumPy array\n",
    "\n",
    "    Output:\n",
    "    Returns a Python list containing the diagonal of A sorted in descending order.\n",
    "\n",
    "    Example:\n",
    "    A = np.array([[1,2,3]\n",
    "                   [4,5,6]\n",
    "                   [7,8,9]])\n",
    "\n",
    "    Output = [9,5,1]\n",
    "    \"\"\"\n",
    "    lst = A.diagonal().tolist()\n",
    "\n",
    "    lst.sort(reverse=True)\n",
    "\n",
    "    return lst"
   ]
  },
  {
   "cell_type": "code",
   "execution_count": 49,
   "metadata": {
    "execution": {
     "iopub.execute_input": "2024-01-04T09:15:23.076048Z",
     "iopub.status.busy": "2024-01-04T09:15:23.075941Z",
     "iopub.status.idle": "2024-01-04T09:15:23.077829Z",
     "shell.execute_reply": "2024-01-04T09:15:23.077593Z"
    }
   },
   "outputs": [
    {
     "name": "stdout",
     "output_type": "stream",
     "text": [
      "Question 8 Passed!\n"
     ]
    }
   ],
   "source": [
    "test_q8(q8)"
   ]
  },
  {
   "attachments": {},
   "cell_type": "markdown",
   "metadata": {},
   "source": [
    "### Question 9\n",
    "**<span style=\"color:red\">Given two differently sized matrices, \"pad\" the matrices with the smaller dimensions with rows/columns of zeros until they are the same size as one another. Add the padding to the bottom (if adding rows) and to the right (if adding columns). Hint: there might be a NumPy function that does something similar/exactly to this, but it's good practice to try this yourself. Consider making temporary matrices of all zeros with a specific size. </span>**\n",
    "\n",
    "This is typically the hardest question for students."
   ]
  },
  {
   "cell_type": "code",
   "execution_count": 50,
   "metadata": {
    "execution": {
     "iopub.execute_input": "2024-01-04T09:15:23.079332Z",
     "iopub.status.busy": "2024-01-04T09:15:23.079234Z",
     "iopub.status.idle": "2024-01-04T09:15:23.081862Z",
     "shell.execute_reply": "2024-01-04T09:15:23.081618Z"
    }
   },
   "outputs": [],
   "source": [
    "def q9(A, B):\n",
    "    \"\"\"\n",
    "    Input:\n",
    "    A - MxN NumPy array\n",
    "    B - YxZ NumPy array\n",
    "\n",
    "    Output:\n",
    "    Returns the zero-padded versions of each array such that they are of equivalent dimensions.\n",
    "    Padding is added to the bottom and right.\n",
    "\n",
    "    Example:\n",
    "    A = np.array([[1,2,3]\n",
    "                   [4,5,6]])\n",
    "    B = np.array([[1,1]\n",
    "                  [1,1]\n",
    "                  [1,1]])\n",
    "\n",
    "    Output = np.array([[1,2,3]\n",
    "                        [4,5,6]\n",
    "                        [0,0,0]]),\n",
    "              np.array([[1,1,0]\n",
    "                        [1,1,0]\n",
    "                        [1,1,0]])\n",
    "    \"\"\"\n",
    "\n",
    "    # YOUR CODE HERE\n",
    "    A_array = A\n",
    "    shape = np.shape(A_array)\n",
    "    Ar = np.zeros((3, 3))\n",
    "    Ar[: shape[0], : shape[1]] = A_array\n",
    "\n",
    "    B_array = B\n",
    "    shape2 = np.shape(B_array)\n",
    "    Br = np.zeros((3, 3))\n",
    "    Br[: shape2[0], : shape2[1]] = B_array\n",
    "\n",
    "    return Ar, Br"
   ]
  },
  {
   "cell_type": "code",
   "execution_count": 51,
   "metadata": {
    "execution": {
     "iopub.execute_input": "2024-01-04T09:15:23.083300Z",
     "iopub.status.busy": "2024-01-04T09:15:23.083200Z",
     "iopub.status.idle": "2024-01-04T09:15:23.084846Z",
     "shell.execute_reply": "2024-01-04T09:15:23.084589Z"
    }
   },
   "outputs": [
    {
     "name": "stdout",
     "output_type": "stream",
     "text": [
      "Question 9 Passed!\n"
     ]
    }
   ],
   "source": [
    "test_q9(q9)"
   ]
  },
  {
   "attachments": {},
   "cell_type": "markdown",
   "metadata": {},
   "source": [
    "### Question 10\n",
    "**<span style=\"color:red\">Given an MxN matrix, A, and an NxM matrix, B, concatenate (side-by-side) the first p rows of A with the transpose of the last p columns of B.</span>**"
   ]
  },
  {
   "cell_type": "code",
   "execution_count": 52,
   "metadata": {
    "execution": {
     "iopub.execute_input": "2024-01-04T09:15:23.086547Z",
     "iopub.status.busy": "2024-01-04T09:15:23.086267Z",
     "iopub.status.idle": "2024-01-04T09:15:23.088626Z",
     "shell.execute_reply": "2024-01-04T09:15:23.088385Z"
    }
   },
   "outputs": [],
   "source": [
    "def q10(A, B, p):\n",
    "    \"\"\"\n",
    "    Input:\n",
    "    A - MxN NumPy array\n",
    "    B - NxM NumPy array\n",
    "    p - number of rows from A to concatenate with number of columns from B\n",
    "\n",
    "    Output:\n",
    "    Returns the side-by-side concatenation of the first p rows of A with the transpose of the last p columns of B.\n",
    "\n",
    "    Example:\n",
    "    A = np.array([[1,1,1]\n",
    "                  [1,1,1]\n",
    "                  [1,1,1]\n",
    "                  [1,1,1]])\n",
    "    B = np.array([[1,2,3,4]\n",
    "                  [5,6,7,8]\n",
    "                  [9,10,11,12]])\n",
    "    p = 2\n",
    "\n",
    "    Output = np.array([[1,1,1,3,7,11]\n",
    "                       [1,1,1,4,8,12]])\n",
    "    \"\"\"\n",
    "    return np.concatenate((A[p : p + 1], np.transpose(B)[-p:]), axis=1)"
   ]
  },
  {
   "cell_type": "code",
   "execution_count": 53,
   "metadata": {
    "execution": {
     "iopub.execute_input": "2024-01-04T09:15:23.090087Z",
     "iopub.status.busy": "2024-01-04T09:15:23.089979Z",
     "iopub.status.idle": "2024-01-04T09:15:23.091894Z",
     "shell.execute_reply": "2024-01-04T09:15:23.091572Z"
    }
   },
   "outputs": [
    {
     "name": "stdout",
     "output_type": "stream",
     "text": [
      "Question 10 Passed!\n"
     ]
    }
   ],
   "source": [
    "test_q10(q10)"
   ]
  },
  {
   "cell_type": "code",
   "execution_count": 54,
   "metadata": {
    "execution": {
     "iopub.execute_input": "2024-01-04T09:15:23.093345Z",
     "iopub.status.busy": "2024-01-04T09:15:23.093245Z",
     "iopub.status.idle": "2024-01-04T09:15:23.095677Z",
     "shell.execute_reply": "2024-01-04T09:15:23.095424Z"
    }
   },
   "outputs": [
    {
     "name": "stdout",
     "output_type": "stream",
     "text": [
      "Question 1 Passed!\n",
      "Question 2 Passed!\n",
      "Question 3 Passed!\n",
      "Question 4 Passed!\n",
      "Question 5 Passed!\n",
      "Question 6 Passed!\n",
      "Question 7 Passed!\n",
      "Question 8 Passed!\n",
      "Question 9 Passed!\n",
      "Question 10 Passed!\n"
     ]
    }
   ],
   "source": [
    "test_all(q1, q2, q3, q4, q5, q6, q7, q8, q9, q10)"
   ]
  },
  {
   "attachments": {},
   "cell_type": "markdown",
   "metadata": {},
   "source": [
    "<a id='checkoff'></a>\n",
    "## Checkoff\n",
    "To receive credit, all labs will require the submission of a checkoff Google form and a Lab Queue checkoff request. These links will be at the bottom of each lab. \n",
    "Please complete both items now.\n",
    "\n",
    "\n",
    "1. Fill out the checkoff Google form. **[Checkoff Form](https://forms.gle/QQ9mVm9U4zsZRJVV9)**\n",
    "\n",
    "2. Submit a **checkoff** request on the lab queue. **[Lab Queue](https://lab.eecs16a.org)**"
   ]
  }
 ],
 "metadata": {
  "anaconda-cloud": {},
  "kernelspec": {
   "display_name": "Python 3",
   "language": "python",
   "name": "python3"
  },
  "language_info": {
   "codemirror_mode": {
    "name": "ipython",
    "version": 3
   },
   "file_extension": ".py",
   "mimetype": "text/x-python",
   "name": "python",
   "nbconvert_exporter": "python",
   "pygments_lexer": "ipython3",
   "version": "3.8.16"
  }
 },
 "nbformat": 4,
 "nbformat_minor": 4
}
