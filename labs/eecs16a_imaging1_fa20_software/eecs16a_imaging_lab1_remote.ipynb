{
 "cells": [
  {
   "cell_type": "markdown",
   "metadata": {},
   "source": [
    "# Imaging Lab 1 Software: Building a Light Sensor and Breadboarding Introduction\n",
    "\n",
    "### EECS 16A: Designing Information Devices and Systems I, Fall 2020\n",
    "\n",
    "<!--- Linda Du     (ljdu@berkeley.edu)\n",
    "      Leyla Kabuli (lakabuli@berkeley.edu) \n",
    "      Seiya Ono    (scono12@berkeley.edu)\n",
    "---->"
   ]
  },
  {
   "cell_type": "markdown",
   "metadata": {},
   "source": [
    "\n",
    "## Table of Contents\n",
    "\n",
    "* [Instructions](#instructions)\n",
    "* [Lab Policies](#policies)\n",
    "* [Assistance](#questions)\n",
    "* [Equipment Overview](#equip)\n",
    "* [Introduction](#intro)\n",
    "  * [System Overview](#overview)\n",
    "  * [Circuit Symbols and Concepts](#review)\n",
    "  * [PSU and Voltage Sources](#psu) \n",
    "* [Task 1: Breadboarding](#task1)\n",
    "  * [Task 1a: Breadboarding Intuition](#task1a)\n",
    "  * [Task 1b: Using a Breadboard](#task1b)\n",
    "  * [Task 1c: Breadboard Debugging](#task1c)\n",
    "* [Task 2: Setting Up the Ambient Light Sensor with an Oscilloscope](#task2)\n",
    "* [Task 3: Adding a Capacitor](#task3)\n",
    "* [Checkoff](#checkoff)\n",
    "* [Additional Resources](#extra)"
   ]
  },
  {
   "cell_type": "markdown",
   "metadata": {},
   "source": [
    "<a id='instructions'></a>\n",
    "## Instructions\n",
    "\n",
    "* This lab is for students who have NOT received their lab kits. We will be using TinkerCAD to simulate circuits virtually and achieve the same learning goals. More on this later!\n",
    "\n",
    "\n",
    "* If you received your lab kit, please attempt the hardware version of this lab.\n",
    "\n",
    "* Please ensure at least one of your teammates has a lab kit and you discuss with them as you progress through the lab. Let the lab staff know if nobody in your team has a lab kit. \n",
    "\n",
    "\n",
    "* Complete this lab by filling in all of the required sections, marked with `\"YOUR CODE HERE\"` or `\"YOUR COMMENTS HERE\"`.\n",
    "\n",
    "\n",
    "* When you finish, submit a checkoff request to get checked off for this lab. Be ready to answer a few questions to show your understanding of each section.\n",
    "\n",
    "\n",
    "* Labs will be graded based on completion for teams of 2-4 students."
   ]
  },
  {
   "cell_type": "markdown",
   "metadata": {},
   "source": [
    "<a id='policies'></a>\n",
    "## Lab Policies\n",
    "* **YOU MUST ATTEND THE LAB SECTION YOU ARE ENROLLED IN. If you anticipate missing a section, please notify your GSI in advance.**\n",
    "* **You are free to stay for the full allotted time and hack around with the lab setup or code, but please keep the GSI's time in mind and do not work on unrelated assignments.**\n",
    "* **Keep food and drinks (except water) away from your devices and equipment. Ah let's leave this to the hardware folks :)**"
   ]
  },
  {
   "cell_type": "markdown",
   "metadata": {},
   "source": [
    "<a id='questions'></a>\n",
    "\n",
    "## Assistance\n",
    "Whenever you have a question, please use the **[Question queue](https://lab.eecs16a.org)**. You will be prompted to log in with your Berkeley email, after which you will be able to submit a question request. Please select the assignment and specify your breakout room number in your request. A member of lab staff will join your breakout room to help."
   ]
  },
  {
   "cell_type": "markdown",
   "metadata": {},
   "source": [
    "<a id='equip'></a>\n",
    "## Equipment Overview\n",
    "\n",
    "The [EECS16A Lab Equipment Guide](https://docs.google.com/document/d/e/2PACX-1vTVrGBDbRfVI0_LjSeTfw8doili8iS_E_9Fwdk2UShgf7WAgVVoHtyMOpjXadXwD45HNXUbb2ASF18H/pub#h.xzcoxtym09nb) is a comprehensive guide of all the equipment used in labs. You may refer to it whenever you have any questions regarding lab equipment usage in future labs.\n",
    "\n"
   ]
  },
  {
   "cell_type": "markdown",
   "metadata": {},
   "source": [
    "<a id='intro'></a>\n",
    "## Imaging Introduction\n",
    "Welcome to the first lab of the imaging module! The goal of this module is to simulate the imaging system introduced in class. In former in-person versions of this lab, the imaging system included a pico projector, ambient light sensor, some passive electronics, and a [TI MSP430 Launchpad](http://www.ti.com/ww/en/launchpad/launchpad.html?DCMP=rtos&HQS=ep-sdo-rtos-pr-lp-launchpad-en) microcontroller. The completed setup of this in-person imaging system is shown below. \n",
    "<br><br>\n",
    "<center>\n",
    "<img src=\"images/old_setup.jpg\" style=\"width:550px\" />\n",
    "</center>\n",
    "\n",
    "Since we are doing these labs remotely, we will not be building this setup, but we will still be implementing each step of the system using simulations, and the image above is a visualization of this system.\n",
    "\n",
    "<a id='overview'></a>\n",
    "### System Overview\n",
    "The following figure shows a high-level block model of our imaging system. Here is the system flow: \n",
    "\n",
    "1. The ambient light sensor converts light energy into electrical current; more ambient light leads to more current. \n",
    "1. The current produced by the ambient light sensor then travels through passive electrical components. This translates the current into a detectable signal (a voltage signal). \n",
    "1. The TI Launchpad reads this signal, digitizes it, and sends it to the PC. \n",
    "1. The digitized signal gets converted into an image by some linear algebra code written in your Jupyter notebook. Further improvements are made via software to increase the quality of the image.\n",
    "\n",
    "<center>\n",
    "<img src=\"images/system_diagram.svg\" style=\"height:256px\" />\n",
    "</center>\n",
    "\n",
    "Digital images are composed of a grid of [pixels](http://en.wikipedia.org/wiki/Pixel), each of which represents a single color. To create a digital representation, optical imaging systems measure the energy, equivalent to light in this case, reflected off of objects to determine the values of these pixels. Because different colors reflect different amounts of light, measurements of reflected light intensity can be used to differentiate between colors.\n",
    "<br/><br/>\n",
    "\n",
    "<center>\n",
    "<img src=\"images/overview.svg\" style=\"height:256px\"/>\n",
    "</center>\n",
    "\n",
    "Commercial cameras, such as those found in smartphones, use chips called CMOS image sensors to measure millions of pixel values at a time (think of this as millions of devices akin to the ambient light sensor that all fit on an approximately 30mm$^2$ chip). In contrast, our system can only measure one light intensity value at a time, so we will instead use a controlled energy source, the projector, to illuminate specific regions of the image. We then use the ambient light sensor to record the energy that reflects off of those regions.\n",
    "\n",
    "The ambient light sensor converts light to induce a flow of electrons. The circuit then outputs a voltage that changes in real time, depending on the light intensity. The voltage can be thought of as a real \"analog\" value, serving as a starting point for being able to represent our image on a computer. We use a microcontroller (Launchpad) to take samples of the voltage signal and convert them to a set of digital numbers that we can then use in our Jupyter notebook.\n",
    "\n",
    "<a id='review'></a>\n",
    "### Circuit Symbols and Concepts\n",
    "The figure below shows the circuit symbols relevant to this lab and a picture of the real components they represent. Please do not worry if you do not know what these things are. **At this point in the course, you are NOT expected to know what these components are or what they are supposed to do.** You will eventually master these components during the circuits part of 16A. But if you're curious and need to know now, Wikipedia is your friend.\n",
    "<br>\n",
    "<center>\n",
    "<img src=\"images/circuit-symbols.svg\" align=\"center\" style=\"height:256px\"/>\n",
    "</center>\n",
    "<br/> "
   ]
  },
  {
   "cell_type": "markdown",
   "metadata": {},
   "source": [
    "<a id='psu'></a>\n",
    "### Power Supply Unit and Voltage Sources\n",
    "\n",
    "For each circuit that we build, we need a voltage source to provide energy for the circuit to operate, similar to a battery. Traditionally, we use a Power Supply Unit, or [PSU](https://docs.google.com/document/d/e/2PACX-1vTVrGBDbRfVI0_LjSeTfw8doili8iS_E_9Fwdk2UShgf7WAgVVoHtyMOpjXadXwD45HNXUbb2ASF18H/pub#h.umhetktvdzwu) for this.\n",
    "\n",
    "A voltage is defined as a difference in electric potential between two points. For example, the voltage source we traditionally in this lab has a potential difference of $+3.3V$ between its positive and negative terminals. Because a voltage must be defined across two points, it is often convenient to define a common point in a circuit as a reference. This reference voltage, commonly referred to as \"ground\" (GND), is defined by convention to be $0V$, and therefore allows us to conveniently describe voltages at any point in the circuit with respect to $0V$. \n",
    "\n",
    "Every power supply unit also needs a current limit. Since we build simple low-power circuits in this class, we set the current limit to 0.1 A. \n",
    "\n",
    "The color convention used when building circuits has the ground (GND) terminal connected with a black wire, and the positive supply terminal connected with a red wire. \n",
    "\n",
    "<span style=\"color:red\"> **Very important:** NEVER let the exposed ends of the ground and supply wires touch. This will cause significant damage to your PSU and circuit and break them."
   ]
  },
  {
   "cell_type": "markdown",
   "metadata": {},
   "source": [
    "### Resistor Information\n",
    "\n",
    "There are many resistors with different color bands. You will learn more about resistors later in the class. The color bands represent the resistance value of the resistor. In order to calculate the numerical value of a resistor from its colors, you may use the [Resistor 4-Band Color Code Calculator](https://www.digikey.com/en/resources/conversion-calculators/conversion-calculator-resistor-color-code-4-band)\n",
    "\n",
    "<span style='color:red'>Take a look at the resistor below which has the color bands:\n",
    "Brown, Black, Red, Gold. \n",
    "According to the color code calculator, what is the resistance value of this resistor?</span>\n",
    "\n",
    "<img src=\"images/brown_black_red_gold_res.png\" />"
   ]
  },
  {
   "cell_type": "markdown",
   "metadata": {},
   "source": [
    "`YOUR ANSWER HERE`"
   ]
  },
  {
   "cell_type": "markdown",
   "metadata": {},
   "source": [
    "<a id='task1'></a>\n",
    "## <span style=\"color:blue\">Task 1: Breadboarding Basics</span>\n",
    "\n",
    "Breadboards are useful tools that can be used to quickly and easily prototype circuits. The purpose of the breadboarding basics part of this lab is to familiarize you with converting circuit diagrams into breadboard layouts. The skills you pick up in this task will help the following labs go much faster.\n",
    "</br>\n",
    "</br>\n",
    "<center>\n",
    "<img style=\"height: 300px;\" src=\"images/bb_intro_1.png\"/>\n",
    "</center>"
   ]
  },
  {
   "cell_type": "markdown",
   "metadata": {},
   "source": [
    "**<span style=\"color:red;\">Run the code cell below to import the Jupyter notebook-specific library we'll be using to display embedded videos.</span>**"
   ]
  },
  {
   "cell_type": "code",
   "execution_count": null,
   "metadata": {},
   "outputs": [],
   "source": [
    "from IPython.display import IFrame"
   ]
  },
  {
   "cell_type": "markdown",
   "metadata": {},
   "source": [
    "<a id='task1a'></a>\n",
    "## <span style=\"color:blue\">Task 1a: Breadboarding Intuition</span>\n",
    "\n",
    "## Circuits Background\n",
    "**Circuit with Resistor and LED in Series**\n",
    "\n",
    "<center>\n",
    "<img style=\"height: 300px;\" src=\"images/diag.png\"/>\n",
    "</center>\n",
    "\n",
    "\n",
    "The circuit we will be working with has the following components:\n",
    "1. **LED** - lights up when a high enough current flows through it in the correct direction. **Current should flow into the long leg (+) and out of the short leg (-)**\n",
    "1. **Resistor** - resists the flow of current through it and has a voltage drop across it\n",
    "1. **Power Supply Unit (PSU)** - enforces a fixed voltage between + and - (also called ground) ports\n",
    "1. **Wire** - conductive metal which lets current flow through it. A wire the same potential along all points on it\n",
    "\n",
    "Current flows from high to low potential so it'll come out of the + port of the PSU looking for least resistive paths to get to the - port of the PSU. In our schematic, the current will first flow out of the + PSU through the LED (if the LED polarity is correct) then the resistor before reaching the - terminal of the PSU. \n",
    "\n",
    "\n",
    "<center>\n",
    "<img style=\"height: 300px;\" src=\"images/diag_current.png\"/>\n",
    "</center>"
   ]
  },
  {
   "cell_type": "markdown",
   "metadata": {},
   "source": [
    "**<span style=\"color:red\">Reminder to use [this doc](https://docs.google.com/document/d/e/2PACX-1vTVrGBDbRfVI0_LjSeTfw8doili8iS_E_9Fwdk2UShgf7WAgVVoHtyMOpjXadXwD45HNXUbb2ASF18H/pub#h.xzcoxtym09nb) for any questions regarding equipment usage.</span>**\n",
    "\n",
    "## No Breadboard Setup\n",
    "\n",
    "<center>\n",
    "<img style=\"height: 300px;\" src=\"images/diag.png\"/></div>\n",
    "</center>\n",
    "\n",
    "First, let's consider a straightforward method to build the above schematic without using a breadboard.\n",
    "\n",
    "1. Set the PSU to power your circuit with 3.2 V and current limit of 0.1 A\n",
    "1. Touch the + PSU cable to the long leg of the LED - you will need to hold it there, so pinch them together between your thumb and index fingers.\n",
    "1. Touch the - PSU cable (GND cable) to one resistor leg - again, you will need to hold it there, so do this with your other hand.\n",
    "1. Touch the short leg of the LED to the other unconnected leg of the resistor\n",
    "\n",
    "Run the cell below to watch a video demonstrating these directions with the Launchpad and other class hardware. As you'll notice, the LED lights up when it's in series with the resistor and powered by the the Launchpad."
   ]
  },
  {
   "cell_type": "code",
   "execution_count": null,
   "metadata": {},
   "outputs": [],
   "source": [
    "# feel free to alter the width/height in pixels or full-screen the video to observe more closely\n",
    "\n",
    "IFrame(width=\"560\", height=\"315\", src=\"https://www.youtube.com/embed/xd1v96rigO0\", frameborder=\"0\", allow=\"encrypted-media; picture-in-picture\" )"
   ]
  },
  {
   "cell_type": "markdown",
   "metadata": {},
   "source": [
    "<center>\n",
    "<img style=\"height: 200px;\" src=\"images/no_breadboard_hand.jpg\"/>\n",
    "</center>\n",
    "\n",
    "Try imagining the current flow from the + terminal of the PSU, into the LED through its long leg, coming out of its short leg, then going through the resistor and back into the - terminal of the PSU. Convince yourself that what is in front of you is exactly the same as the schematic we have.\n",
    "\n",
    "We have discovered one way to build our circuit schematic! However, you can probably already tell that this method is not very scalable, as you need both of your hands to hold the components together. Imagine that our schematic was more complex, with more resistors and LEDs... It would be hard to manually keep all the components together with good connection and your circuit would end up being very fragile and messy."
   ]
  },
  {
   "cell_type": "markdown",
   "metadata": {},
   "source": [
    "<a id='task1b'></a>\n",
    "## <span style=\"color:blue\">Task 1b: Using a Breadboard</span>"
   ]
  },
  {
   "cell_type": "markdown",
   "metadata": {},
   "source": [
    "## How Breadboards Work\n",
    "\n",
    "Let us understand how a breadboard is internally connected (see image below). Each row of 5 holes (ABCDE or FGHIJ) are electrically connected to each other within the breadboard (underneath the plastic) so we can imagine tiny jumper wires connecting all of the 5 holes to each other. Since these 5 holes are connected, they are all on the same node and should have the same potential. The 2 columns of holes (a red +  and blue - column) on the side of your breadboard are often referred to as the power rails. Instead of horizontal internal connections, the power rails are connected vertically all the way down the side.\n",
    "\n",
    "<center>\n",
    "<img style=\"height: 400px;\" src=\"images/breadboard.png\"/>\n",
    "</center>\n",
    "\n",
    "Notice how there is a separate piece of conductive metal connecting each row of columns ABCDE and FGHIJ. The metal row splits between columns E and F so the 2 sides of each row can have different voltage readings. The same is true for all 4 power rails. Even though the 2 sets look the same, they are in no way internally linked.\n",
    "\n",
    "<center>\n",
    "<img style=\"height: 200px;\" src=\"images/breadboard_pulled_rail.jpg\"/>\n",
    "</center>\n"
   ]
  },
  {
   "cell_type": "markdown",
   "metadata": {},
   "source": [
    "<a id='tinker'></a>\n",
    "## TinkerCAD\n",
    "\n",
    "TinkerCAD is an interactive online design, modeling, and simulation tool that includes an extensive library for 3D modeling, electronics, and circuitry. In this lab, we will be using TinkerCAD to build and simulate virtual circuits on breadboards. The appearance and behavior of TinkerCAD components is very similar to their real-world counterparts.\n",
    "\n",
    "Before proceeding, please read through the **<span style='color:red;font-weight:bold'> [EECS16A TinkerCAD Tutorial](https://docs.google.com/document/d/e/2PACX-1vTVrGBDbRfVI0_LjSeTfw8doili8iS_E_9Fwdk2UShgf7WAgVVoHtyMOpjXadXwD45HNXUbb2ASF18H/pub#h.ckoez949dg4s)</span>** to learn how to register for an account and learn the basics of TinkerCAD. "
   ]
  },
  {
   "cell_type": "markdown",
   "metadata": {},
   "source": [
    "<center>\n",
    "<img style=\"height: 500px;\" src=\"images/tinkercad.jpg\"/>\n",
    "</center>"
   ]
  },
  {
   "cell_type": "markdown",
   "metadata": {},
   "source": [
    "<center><span style='color:red;font-weight:bold;font-size:25px;font-style:italic'>Do not proceed without going through the TinkerCAD tutorial.</span></center>\n",
    "\n",
    "At this point, you should:\n",
    "1. Have an account on TinkerCAD. \n",
    "1. Know how to build a basic circuit and connect components including a power supply, multimeter, and LED. Feel free to use this same project for the upcoming parts of the lab."
   ]
  },
  {
   "cell_type": "markdown",
   "metadata": {},
   "source": [
    "## Breadboard with Power Rails Setup\n",
    "\n",
    "Now let's try taking advantage of a breadboard to build a circuit for the same schematic using TinkerCAD!\n",
    "\n",
    "<table><tr>\n",
    "<td> <img style=\"height: 300px;\" align=\"center\" src=\"images/diag.png\"/> </td>\n",
    "<td> <img style=\"height: 400px;\" align=\"center\" src=\"images/led_res_tinkercad.png\"/> </td>\n",
    "</tr></table>\n",
    "\n",
    "<span style='color:red;font-weight:bold'>Construct the following circuit in a new TinkerCAD circuit project.</span> **If you did not yet go through the TinkerCAD tutorial, go back to the [TinkerCAD section](#tinker) and read through the instructions in the linked guide.**\n",
    "\n",
    "Please refer to the breadboarded view of the circuit and the following instructions. Make sure you understand how the components are connected through the wires and breadboard.\n",
    "\n",
    "1. Place a small breadboard and a power supply in the workspace. \n",
    "1. Rotate the breadboard so it's vertical by selecting it and then clicking 'Rotate' in the horizontal menu on the top left of the screen, or using the keyboard shortcut ‘Shift’ + ‘r’.\n",
    "1. Insert the LED and resistor into the breadboard as shown. Make sure the longer LED leg (the one with the kink) is in a lower row number.\n",
    "1. Connect the positive and negative terminals of the PSU to the + and - rails on the left side of the breadboard respectively. Make sure you use the right color convention. \n",
    "1. Use a wire to connect the + rail to the row with the long LED leg\n",
    "1. Use another wire to connect the - rail to the row with the bottom resistor leg.\n",
    "1. Set the power supply to $3.2V$ and $0.1A$.\n",
    "1. Start the simulation by clicking <span style='color:green;font-weight:bold'>Start Simulation</span>.\n",
    "1. Observe the LED.\n",
    "\n",
    "**Did the LED light up?** \n",
    "\n",
    "**Keeping in mind that current will flow through all the metal internal breadboard connections, convince yourself again that this is also a valid construction of the same circuit schematic.**"
   ]
  },
  {
   "cell_type": "markdown",
   "metadata": {},
   "source": [
    "**Questions** <br> <br>\n",
    "\n",
    "<span style = \"color:red\">\n",
    "1. Move the LED to the right half of the breadboard by moving it to </span><b style = \"color:red\">column J</b><span style = \"color:red\"> while keeping the 2 legs in the same rows. Did the LED light up? Is the breadboard internally connected across the gap (between col E and F)?\n",
    "</span>"
   ]
  },
  {
   "cell_type": "markdown",
   "metadata": {},
   "source": [
    "`YOUR ANSWER HERE`"
   ]
  },
  {
   "cell_type": "markdown",
   "metadata": {},
   "source": [
    "<font color=\"red\">\n",
    "2. Do you need the two wires that connect the vertical rails to the horizontal rails in the breadboarded view? Move your resistor and LED so that you don't need those wires. Does the LED still light up? \n",
    "</font>"
   ]
  },
  {
   "cell_type": "markdown",
   "metadata": {},
   "source": [
    "`YOUR ANSWER HERE`"
   ]
  },
  {
   "cell_type": "markdown",
   "metadata": {},
   "source": [
    "Run the following code cell below to see a physical walkthrough of the breadboarded version of the circuit from Task 1a, with the LED and the resistor in series. **View this after walking through the directions and attempting the questions above, especially if you are having trouble getting your LED to light up.**"
   ]
  },
  {
   "cell_type": "code",
   "execution_count": null,
   "metadata": {},
   "outputs": [],
   "source": [
    "# feel free to alter the width/height in pixels or full-screen the video to observe more closely\n",
    "\n",
    "IFrame(width=\"560\", height=\"315\", src=\"https://www.youtube.com/embed/mOTF9FhRE2w\", frameborder=\"0\", allow=\"encrypted-media; picture-in-picture\" )"
   ]
  },
  {
   "cell_type": "markdown",
   "metadata": {},
   "source": [
    "<a id='task1c'></a>\n",
    "## <span style=\"color:blue\">Task 1c: Breadboard Debugging</span>\n",
    "\n",
    "Take a look at the breadboard on the left and compare it to the circuit diagram on the right. Assuming the ground rails are plugged in correctly (+ is +3.2V, - is 0V), can you identify **two** differences between the breadboarded circuit and the circuit diagram? What will happen if the circuit is plugged in? What will happen if you fix the circuit to be identical to the circuit diagram and then plug it in? Feel free to build both the 'buggy' and correct circuits in TinkerCAD to compare them!"
   ]
  },
  {
   "cell_type": "markdown",
   "metadata": {},
   "source": [
    "<center style=\"font-size: 18px; font-weight: bold;\">\n",
    "<div style=\"display: inline-block; margin-left: auto; margin-right: auto; margin-bottom: 14px;\" border=\"0\"><div>Breadboard Image</div>\n",
    "<img style=\"height: 500px;\" src=\"images/touch_1_bb2_1.png\"/></div>\n",
    "\n",
    "<div style=\"display: inline-block; margin-left: 10px; margin-right: auto; margin-bottom: 14px;\" border=\"0\"><div>Intended circuit diagram</div>\n",
    "<img style=\"height: 500px;\" src=\"images/touch_1_sc2_1.png\"/></div>\n",
    "\n",
    "</center>"
   ]
  },
  {
   "cell_type": "markdown",
   "metadata": {},
   "source": [
    "<span style=\"color:red\">What are the problems with the buggy breadboard? If you are having trouble identifying the issue, try and recreate the breadboard, and power it with the PSU supplying $3.2V$ and $0.1A$. Fix it so that the LED lights up.</span>\n",
    "\n",
    "Hint: Try to follow the current like you did above, travelling clockwise through the components, starting at the (+) of the PSU."
   ]
  },
  {
   "cell_type": "markdown",
   "metadata": {},
   "source": [
    "`YOUR ANSWER HERE` <br><br>"
   ]
  },
  {
   "cell_type": "markdown",
   "metadata": {},
   "source": [
    "Run the cell below to check out a video demonstrating a hands-on setup of the buggy circuit and the steps that can be taken to debug it. **View this after walking through the directions and attempting the question above.**"
   ]
  },
  {
   "cell_type": "code",
   "execution_count": null,
   "metadata": {},
   "outputs": [],
   "source": [
    "# feel free to alter the width/height in pixels or full-screen the video to observe more closely \n",
    "\n",
    "IFrame(width=\"560\", height=\"315\", src=\"https://www.youtube.com/embed/KcaZYmnThMo\", frameborder=\"0\", allow=\"encrypted-media; picture-in-picture\" )"
   ]
  },
  {
   "cell_type": "markdown",
   "metadata": {},
   "source": [
    "<a id='task2'></a>\n",
    "## <span style=\"color:blue\">Task 2: Setting Up the Ambient Light Sensor with an Oscilloscope</span>\n",
    "\n",
    "In this exercise, you will be provided with an incomplete TinkerCAD setup. Your task is to complete the provided circuit as shown in the schematic.\n",
    "\n",
    "#### Materials & Equipment\n",
    "\n",
    "* **From TinkerCAD**\n",
    "<br/><br/>\n",
    "<center>\n",
    "<table>\n",
    "<tr>\n",
    "<td width=\"100px\" style=\"border: 1px solid #000000;\"><center>1x Ambient Light Sensor</center></td>\n",
    "<td width=\"100px\" style=\"border: 1px solid #000000;\"><center>1x <b>2k$\\Omega$</b> Resistor<br/><b>[Red-Black-Red-Gold]</b></center></td>\n",
    "<td width=\"100px\" style=\"border: 1px solid #000000;\"><center>1x Breadboard</center></td>\n",
    "<td width=\"100px\" style=\"border: 1px solid #000000;\"><center>1x Multimeter</center></td>\n",
    "<td width=\"100px\" style=\"border: 1px solid #000000;\"><center>1x Oscilloscope </center></td>    \n",
    "<td width=\"100px\" style=\"border: 1px solid #000000;\"><center>1x Power Supply Unit (PSU)</center></td>\n",
    "</tr>\n",
    "<tr>\n",
    "<td style=\"border: 1px solid #000000;\"><img src=\"images/tinkercad_ambient_light_sensor.png\" style=\"width: 100px;\"/></td>\n",
    "<td style=\"border: 1px solid #000000;\"><img src=\"images/tinkercad_2k_res.png\" style=\"width: 100px;\"/></td>\n",
    "<td style=\"border: 1px solid #000000;\"><img src=\"images/tinkercad_breadboard.png\" style=\"width: 180px;\"/></td>    \n",
    "<td style=\"border: 1px solid #000000;\"><img src=\"images/tinkercad_multimeter.png\" style=\"width: 180px;\"/></td>\n",
    "<td style=\"border: 1px solid #000000;\"><img src=\"images/tinkercad_oscope.png\" style=\"width: 180px;\"/></td>    \n",
    "<td style=\"border: 1px solid #000000;\"><img src=\"images/tinkercad_psu.png\" style=\"width: 180px;\"/></td>\n",
    "</table>\n",
    "</center>\n",
    "<br/>"
   ]
  },
  {
   "cell_type": "markdown",
   "metadata": {},
   "source": [
    "<center><img src=\"images/task1_schem.png\" align=\"center\" style=\"height:200px\" /><figcaption>Task 2 Schematic</figcaption></center>\n",
    "<br/>\n",
    "This above schematic provides an overview of our desired circuit. "
   ]
  },
  {
   "cell_type": "markdown",
   "metadata": {},
   "source": [
    "An [oscilloscope](https://docs.google.com/document/d/e/2PACX-1vTVrGBDbRfVI0_LjSeTfw8doili8iS_E_9Fwdk2UShgf7WAgVVoHtyMOpjXadXwD45HNXUbb2ASF18H/pub#h.68cks3ejgw6r) is a useful piece of test equipment that can be used to plot signals as a function of time. We will use the TinkerCAD oscilloscope component as a virtual oscilloscope to measure voltage values at points in our circuits.\n",
    "\n",
    "A [multimeter](https://docs.google.com/document/d/e/2PACX-1vTVrGBDbRfVI0_LjSeTfw8doili8iS_E_9Fwdk2UShgf7WAgVVoHtyMOpjXadXwD45HNXUbb2ASF18H/pub#h.5ygc4wkmennw) is a similar instrument that is commonly able to measure voltage at or across nodes in a circuit, current within a specific branch, or resistance of a particular component. In this lab, we will use the TinkerCAD multimeter component to measure voltage values across circuit nodes as well. The multimeter component's digital display of voltage will supplement the general trends graphed on the oscilloscope over time.\n",
    "\n",
    "The circuit is powered by a Power Supply Unit (PSU). We use the virtual oscilloscope and multimeter components to observe the voltage over time across the resistor (nodes A and B)."
   ]
  },
  {
   "cell_type": "markdown",
   "metadata": {},
   "source": [
    "<span style='color:red;font-weight:bold'>Construct the circuit above by copying the existing TinkerCAD circuit project linked [here](https://www.tinkercad.com/things/6NIwL8pNVGt) and then completing it. To do this, you should click the </span><span style='color:blue;font-weight:bold'>blue \"Copy and Tinker\" option</span><span style='color:red;font-weight:bold'> on the right side of the project preview image. This will create a clone of the original project, with all of the components and some missing connections.</span>\n",
    "\n",
    "<center>\n",
    "<img src=\"images/ambient_light_sensor_make_a_copy.png\" align=\"center\" style=\"width:800px\" />\n",
    "<figcaption>Copying a TinkerCAD circuit looks like this</figcaption>\n",
    "</center>"
   ]
  },
  {
   "cell_type": "markdown",
   "metadata": {},
   "source": [
    "<center>\n",
    "<img src=\"images/tinkercad_starter_light_sensor_oscope.png\" />\n",
    "</center>\n",
    "\n",
    "**The schematic for this circuit is repeated below.**\n",
    "<br><br>\n",
    "<center>\n",
    "<img src=\"images/task1_schem.png\" align=\"center\" style=\"width:300px\" />\n",
    "<figcaption>Task 1 Schematic</figcaption>\n",
    "</center>"
   ]
  },
  {
   "cell_type": "markdown",
   "metadata": {},
   "source": [
    "<span style=\"color:red\">**FOLLOW THE GIVEN STEPS TO SET UP YOUR LIGHT SENSING CIRCUIT**</span>\n",
    "<table>\n",
    "    <tr>\n",
    "        <td><img src=\"images/tinkercad_ambient_light_sensor_collector.png\" /></td>\n",
    "        <td><img src=\"images/tinkercad_ambient_light_sensor_emitter.png\" /></td>\n",
    "    </tr>\n",
    "</table>\n",
    "\n",
    "0. TinkerCAD uses the terms \"Collector\" and \"Emitter\" to refer to the different legs of an ambient light sensor. These terms are beyond the scope of this class. What you need to know is an ambient light sensor has polarity, i.e., it needs to be connected in a particular direction to work. \n",
    "<ul>\n",
    "<li>The \"Emitter\" leg is the \"short\" leg of a real-world ambient ambient light sensor. It is the positive terminal of the light sensor.</li>\n",
    "<li>The \"Collector\" leg is the \"long\" leg of a real-world ambient ambient light sensor. It is the negative terminal of the light sensor.</li>\n",
    "</ul>\n",
    "\n",
    "\n",
    "1. Connect the short leg of the ambient light sensor to any hole in the **<span style=\"color:red\">red (+) column</span>** of the breadboard. Connect the long leg of the ambient light sensor to a hole in the **same row** as the **2 $k\\Omega$** resistor, multimeter and oscilloscope (node A). You can find out which leg is the short one (\"emitter\") and which is the long one (\"collector\") by mousing over the light sensor leg tips in TinkerCAD.\n",
    "\n",
    "2. Connect the unconnected (top) leg of the resistor (node B) to any hole in the **<span style=\"color:black\">black (-) column</span>** of the breadboard.\n",
    "\n",
    "<br>\n",
    "<center>\n",
    "<img src=\"images/tinkercad_complete_light_sensor_oscope.png\" align=\"center\" style=\"width:300px\" />\n",
    "<figcaption>The Complete Circuit</figcaption>\n",
    "</center>\n",
    "\n",
    "\n",
    "3. Start the simulation by clicking <span style='color:green;font-weight:bold'>Start Simulation</span>. "
   ]
  },
  {
   "cell_type": "markdown",
   "metadata": {},
   "source": [
    "Once you have completed the steps above and check that all components are properly connected, you should be seeing a \n",
    "voltage and current value displayed on the PSU and a voltage measurement displayed on the multimeter. Click the ambient light sensor to see the current ambient light value:\n",
    "<br> <br>\n",
    "<center>\n",
    "    <img src=\"images/light_sensor_darkness_scale.png\" />\n",
    "</center>    \n",
    "\n",
    "In the image above, because the simulated circuit environment in the TinkerCAD project is in complete darkness, the voltage being measured on the multimeter should correspondingly be $0V$, as the sensor provides no current to the circuit. Moving the ambient light slider down will \"brighten\" the surroundings. "
   ]
  },
  {
   "cell_type": "markdown",
   "metadata": {},
   "source": [
    "Now shift the ambient light sensor around, and you should see the multimeter begin to display changing nonzero numbers.\n",
    "\n",
    "If the numbers do not change or show up as negative values, try some of the following:\n",
    "1. Check that your components are plugged into the breadboard correctly by clicking and dragging them slightly to ensure that they are linked to their respective holes.\n",
    "2. Check the polarity of the ambient light sensor.\n",
    "3. Check the polarity of the multimeter and oscilloscope connections."
   ]
  },
  {
   "cell_type": "markdown",
   "metadata": {},
   "source": [
    "### Questions\n",
    "\n",
    "1. Try decreasing the ambient light in the simulation by moving the light sensor slider up. <span style=\"color:red\">What happens to the voltage displayed by the multimeter and the plot displayed by the oscilloscope as the amount of ambient light changes? Do these numbers increase or decrease as the amount of ambient light increases? </span>"
   ]
  },
  {
   "cell_type": "markdown",
   "metadata": {},
   "source": [
    "`YOUR ANSWER HERE`"
   ]
  },
  {
   "cell_type": "markdown",
   "metadata": {},
   "source": [
    "2. Now, press <span style='color:red;font-weight:bold'>Stop Simulation</span> and connect the red multimeter and osciloscope wires to the (+) rail of the breadboard.  Press <span style='color:green;font-weight:bold'>Start Simulation</span>. Increase then decrease the ambient light. <span style=\"color:red\">What is the value that is output on the multimeter? Does it stay constant?</span> Trace the red wire that connects to your power supply. <span style=\"color:red\"> Does this value agree with the voltage property value on the PSU?</span>"
   ]
  },
  {
   "cell_type": "markdown",
   "metadata": {},
   "source": [
    "`YOUR ANSWER HERE`"
   ]
  },
  {
   "cell_type": "markdown",
   "metadata": {},
   "source": [
    "3. Now, press <span style='color:red;font-weight:bold'>Stop Simulation</span> again. Unplug the red multimeter and oscilloscope wires from the breadboard, and put them into a point on the (-) rail instead. Press <span style='color:green;font-weight:bold'>Start Simulation</span> again. Increase then decrease the ambient light.\n",
    "<span style=\"color:red\">What is the value that is output on the multimeter? Does it stay constant?</span> Trace the black wire that connects to your power supply. <span style=\"color:red\"> Does this value match what you expected?</span>\n"
   ]
  },
  {
   "cell_type": "markdown",
   "metadata": {},
   "source": [
    "`YOUR ANSWER HERE`"
   ]
  },
  {
   "cell_type": "markdown",
   "metadata": {},
   "source": [
    "4. This circuit uses an [ambient light sensor](https://docs.google.com/document/d/e/2PACX-1vTVrGBDbRfVI0_LjSeTfw8doili8iS_E_9Fwdk2UShgf7WAgVVoHtyMOpjXadXwD45HNXUbb2ASF18H/pub#h.cfa3dkn1uma5). We have been measuring the voltages at specific points in the circuit. For all 3 questions above, the lighting fluctuated. Yet the values above remained fairly constant in questions 2 and 3, but varied in question 1. **<span style=\"color:red\">If this circuit is supposed to sense light and respond accordingly, do you have a guess as to why there is a difference in measurements?</span>**"
   ]
  },
  {
   "cell_type": "markdown",
   "metadata": {},
   "source": [
    "`YOUR ANSWER HERE`"
   ]
  },
  {
   "cell_type": "markdown",
   "metadata": {},
   "source": [
    "In questions 2 and 3 above, we went through some simple debugging techniques. By \"probing\" the circuit (plugging in the red multimeter wire, with the black multimeter wire connected to ground), we were able to find out the voltages at specific points in the circuit. This debugging technique can be very useful in future labs, if you cannot figure out where there is a bug in your circuit, you can always probe individual points and check if their voltage values are as expected. So far, we probed the two power rails. "
   ]
  },
  {
   "cell_type": "markdown",
   "metadata": {},
   "source": [
    "Press <span style='color:red;font-weight:bold'>Stop Simulation</span>. We will be revisiting this circuit again at the end of Task 3."
   ]
  },
  {
   "cell_type": "markdown",
   "metadata": {},
   "source": [
    "Run the cell below to check out a video demonstrating how to build an ambient light sensor circuit and use an oscilloscope to measure voltages.  **View this after walking through the directions and attempting the questions above.**"
   ]
  },
  {
   "cell_type": "code",
   "execution_count": null,
   "metadata": {},
   "outputs": [],
   "source": [
    "# feel free to alter the width/height in pixels or full-screen the video to observe more closely \n",
    "\n",
    "IFrame(width=\"560\", height=\"315\", src=\"https://www.youtube.com/embed/364Enq-6lno\", frameborder=\"0\", allow=\"encrypted-media; picture-in-picture\" )"
   ]
  },
  {
   "cell_type": "markdown",
   "metadata": {},
   "source": [
    "<a id='task3'></a>\n",
    "## <span style=\"color:blue\">Task 3: Adding a Capacitor</span>\n",
    "In this exercise, we add a capacitor to the schematic across nodes A and B. However, we create another circuit so we can compare this circuit with the circuit from the previous exercise and analyze the role the capacitor plays. \n",
    "You will be provided with a slightly more incomplete TinkerCAD setup than last time. Your task is to complete the circuit as shown in the schematic.\n",
    "\n",
    "#### Additional Materials & Equipment\n",
    "* **From TinkerCAD**\n",
    "<br/><br/>\n",
    "<center>\n",
    "<table>\n",
    "<tr>\n",
    "<td width=\"180px\" style=\"border: 1px solid #000000;\"><center>1x Capacitor. Its capacitance has been set to 10$\\mu$F.</center></td>\n",
    "</tr>\n",
    "<tr>\n",
    "<td style=\"border: 1px solid #000000;\"><img src=\"images/tinkercad_capacitor.png\" style=\"width: 100px;\"/></td>\n",
    "</table>\n",
    "</center>\n",
    "<br>"
   ]
  },
  {
   "cell_type": "markdown",
   "metadata": {},
   "source": [
    "<center><img src=\"images/task3_schem.png\" align=\"center\" style=\"height:200px\" /><figcaption>Task 3 Schematic</figcaption></center>\n",
    "<br/>\n",
    "This above schematic provides an overview of our desired circuit. "
   ]
  },
  {
   "cell_type": "markdown",
   "metadata": {},
   "source": [
    "A [capacitor](https://learn.sparkfun.com/tutorials/capacitors/all) is a two terminal electrical component that can store and then release energy. The effect of a capacitor is measured by its capacitance in farads(F). However, we generally use capacitors on a much much smaller scale of capacitance, such as, microfarads ($\\mu$F). Such capacitors do not have any polarity. More on this in the module 2 lectures!\n",
    "\n",
    "We place a 10$\\mu$F capacitor in parallel with the resistor. This means that they are connected across the same node. Now, node A is shared by one leg of the ambient light sensor, the capacitor and the resistor. Node B (ground) is shared by the other leg of the capacitor and the resistor. "
   ]
  },
  {
   "cell_type": "markdown",
   "metadata": {},
   "source": [
    "<span style='color:red;font-weight:bold'>Construct the circuit above by copying the existing TinkerCAD circuit project linked [here](https://www.tinkercad.com/things/cuv8aEKOQdg) and then completing it. To do this, you should click the </span><span style='color:blue;font-weight:bold'>blue \"Copy and Tinker\" option</span><span style='color:red;font-weight:bold'> on the right side of the project preview image. This will create a clone of the original project, with all of the components and many missing connections.</span> \n",
    "\n",
    "<center>\n",
    "<img src=\"images/tinkercad_starter_light_sensor_oscope.png\" />\n",
    "</center>\n",
    "\n",
    "**The schematic for this circuit is repeated below.**\n",
    "<br><br>\n",
    "<center>\n",
    "<img src=\"images/task3_schem.png\" align=\"center\" style=\"width:300px\" />\n",
    "<figcaption>Task 3 Schematic</figcaption>\n",
    "</center>"
   ]
  },
  {
   "cell_type": "markdown",
   "metadata": {},
   "source": [
    "<span style=\"color:red\">**FOLLOW THE GIVEN STEPS TO SET UP YOUR LIGHT SENSING CIRCUIT WITH A CAPACITOR**</span>\n",
    "\n",
    "0. Leaving the capacitor as is, connect the rest of the components just like in Task 2.\n",
    "\n",
    "1. We have already placed one leg of the capacitor in the row that is shared between one leg of the ambient light sensor and one leg of the resistor (node A). Connect the other leg of the capacitor (node B) to the <span style=\"color:black\">black (-) column </span> of the breadboard.\n",
    "\n",
    "<br>\n",
    "<center>\n",
    "<img src=\"images/tinkercad_complete_light_sensor_oscope_cap.png\" align=\"center\" style=\"width:300px\" />\n",
    "<figcaption>The Complete Circuit</figcaption>\n",
    "</center>\n",
    "\n",
    "2. Start the simulation by clicking <span style='color:green;font-weight:bold'>Start Simulation</span> and test for different ambient light values. If the numbers do not change or show up as negative values, compare your circuit with the one from the previous task and check that the resistor and capacitor are connected in \"parallel\" i.e.\n",
    "    - one leg of the capacitor is in any hole in the row that is shared between one leg of the ambient light sensor and one leg of the resistor\n",
    "    - the other leg of the capacitor is in any row that connects to the <span style=\"color:black\">black (-) column </span> of the breadboard (the other leg of the resistor should also be connected similarly)\n",
    "    \n",
    "3. Press <span style='color:red;font-weight:bold'>Stop Simulation</span>."
   ]
  },
  {
   "cell_type": "markdown",
   "metadata": {},
   "source": [
    "Run the cell below to check out a video showing the oscilloscope plot for the hardware setup with and without a capacitor."
   ]
  },
  {
   "cell_type": "code",
   "execution_count": null,
   "metadata": {},
   "outputs": [],
   "source": [
    "# feel free to alter the width/height in pixels or full-screen the video to observe more closely \n",
    "\n",
    "IFrame(width=\"560\", height=\"315\", src=\"https://www.youtube.com/embed/oAVFUGDLyIo\", frameborder=\"0\", allow=\"encrypted-media; picture-in-picture\" )"
   ]
  },
  {
   "cell_type": "markdown",
   "metadata": {},
   "source": [
    "### Questions\n",
    "\n",
    "Open the circuits from Tasks 2 and 3 in separate tabs and start simulations. Rapidly change the ambient light values and observe the virtual oscilloscope display carefully for each circuit. <span style=\"color:red\"> Did the capacitor make a difference? (Hint: The difference is subtle, but still noticeable. Zooming in on the oscilloscope display may help. You could also refer to the hardware setup video for this question.)</span>"
   ]
  },
  {
   "cell_type": "markdown",
   "metadata": {},
   "source": [
    "`YOUR ANSWER HERE`"
   ]
  },
  {
   "cell_type": "markdown",
   "metadata": {},
   "source": [
    "<span style=\"color:red\"> Imagine we want to take pictures with this light sensor circuit by recording the data values sensed at various locations in an image. Would you prefer to use the circuit without the capacitor, or the one with the capacitor? Why? </span>"
   ]
  },
  {
   "cell_type": "markdown",
   "metadata": {},
   "source": [
    "`YOUR ANSWER HERE` "
   ]
  },
  {
   "cell_type": "markdown",
   "metadata": {},
   "source": [
    "## **<span style=\"color:red\"> Do not take apart your setup before being checked off. </span>**\n",
    "\n",
    "<a id='checkoff'></a>\n",
    "## Checkoff\n",
    "When you are ready to get checked off,\n",
    "1. Fill out the checkoff google form. **[Checkoff Form](https://forms.gle/5W8u2thJzsmWLDsa9)**\n",
    "2. Submit a **checkoff** request on the lab queue. **[Checkoff queue](https://lab.eecs16a.org)** It is fine if only one person from your group submits the queue request, but everyone must submit their own google form. \n",
    "\n",
    "Your GSI or a Lab Assistant will join your breakout room when they are available and go through some checkoff questions with your group. They will go through the checkoff list in order. Please be patient!"
   ]
  },
  {
   "cell_type": "markdown",
   "metadata": {},
   "source": [
    "<a id='extra'></a>\n",
    "## Additional Resources\n",
    "Congratulations, you can now record sensor data on a computer!\n",
    "There are all kinds of exciting things you can do with this setup. Once your sensor data is accessible in Python, you can use sensor input as a cue to send a text message or tweet, start or stop programs, and more! The possibilities are endless!\n",
    "\n",
    "If you're interested in applying what you've learned to your own personal projects, there are a variety of spaces on campus with additional resources to support these kinds of activities: \n",
    "* [Supernode (246 Cory Hall)](http://supernode.berkeley.edu)\n",
    "* [CITRIS Invention Lab (141 Sutardja Dai Hall)](http://invent.citris-uc.org)\n",
    "* [Jacobs Hall](http://engineeringdesign.berkeley.edu/jacobs-hall/)"
   ]
  }
 ],
 "metadata": {
  "anaconda-cloud": {},
  "kernelspec": {
   "display_name": "Python 3",
   "language": "python",
   "name": "python3"
  },
  "language_info": {
   "codemirror_mode": {
    "name": "ipython",
    "version": 3
   },
   "file_extension": ".py",
   "mimetype": "text/x-python",
   "name": "python",
   "nbconvert_exporter": "python",
   "pygments_lexer": "ipython3",
   "version": "3.7.6"
  }
 },
 "nbformat": 4,
 "nbformat_minor": 1
}
