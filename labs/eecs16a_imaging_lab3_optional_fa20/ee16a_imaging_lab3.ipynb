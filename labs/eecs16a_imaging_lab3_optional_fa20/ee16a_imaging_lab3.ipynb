{
 "cells": [
  {
   "cell_type": "markdown",
   "metadata": {},
   "source": [
    "# Optional Imaging Lab\n",
    "\n",
    "## EECS 16A: Designing Information Devices and Systems I, Fall 2020"
   ]
  },
  {
   "cell_type": "markdown",
   "metadata": {},
   "source": [
    "\n",
    "## Table of Contents\n",
    "\n",
    "* [Instructions](#instructions)\n",
    "* [Introduction](#introduction)\n",
    "* [Hardware Setup](#hardwareSetup)\n",
    "* [Single Pixel Imaging](#singlePixel)\n",
    "* [Multipixel Imaging](#multiPixel)\n",
    "    * [Hadamard Matrix](#hadamard)\n",
    "    * [Random Matrix](#random)\n"
   ]
  },
  {
   "cell_type": "markdown",
   "metadata": {},
   "source": [
    "<a id='instructions'></a>\n",
    "# <span style='color:blue'>Instructions</span>\n",
    "\n",
    "\n",
    "* Complete this lab by running all the blocks and answering the question at the end marked with `\"YOUR COMMENTS HERE\"`. No coding is required!\n",
    "\n",
    "\n",
    "* In case you run into difficulties, please request help by creating a ticket on the [lab queue](https://lab.eecs16a.org/). \n",
    "\n",
    "\n",
    "* This lab is ungraded and completely optional. There is no required checkoff. Instead, we request you to fill out this [feedback form](https://forms.gle/kXRSiumEGtHd7bD39) when you finish."
   ]
  },
  {
   "cell_type": "markdown",
   "metadata": {},
   "source": [
    "<a id='introduction'></a>\n",
    "# <span style='color:blue'>Introduction</span>\n",
    "\n",
    "This lab is an extension of Imaging Lab 2 and Imaging Lab 3 that demonstrates \"real\" imaging using the ambient light sensor circuit you developed in Imaging Lab 1 and your computer monitor (as opposed to the virtual simulations you have seen so far).\n",
    "\n",
    "In a traditional in-person semester, we use the setup shown below. We image an index card by projecting masks onto the index card using a projector. Then, we use the ambient light sensor to detect the amount of light reflected by the masked index card.\n",
    "\n",
    "<br/>\n",
    "<center>\n",
    "<table>\n",
    "<tr>\n",
    "<td width=\"500px\" style=\"border: 1px solid #000000;\"><center>Side View</center></td>\n",
    "<td width=\"500px\" style=\"border: 1px solid #000000;\"><center>Top View</center></td>\n",
    "</tr>\n",
    "<tr>\n",
    "<td style=\"border: 1px solid #000000;\"><img src=\"images/side.png\" style=\"width: 500px;\"/></td>\n",
    "<td style=\"border: 1px solid #000000;\"><img src=\"images/top.png\" style=\"width: 500px;\"/></td>\n",
    "</table>\n",
    "</center>\n",
    "<br>\n",
    "\n",
    "In this lab, we use the setup shown below. We image a 32x32 picture (akin to an index card) by overlaying masks onto the picture using Python code and displaying the result on the screen. Then, we use the ambient light sensor to detect the amount of light reflected by the masked picture.\n",
    "\n",
    "<br/>\n",
    "<center>\n",
    "<table>\n",
    "<tr>\n",
    "<td width=\"500px\" style=\"border: 1px solid #000000;\"><center>Side View</center></td>\n",
    "<td width=\"500px\" style=\"border: 1px solid #000000;\"><center>Top View</center></td>\n",
    "</tr>\n",
    "<tr>\n",
    "<td style=\"border: 1px solid #000000;\"><img src=\"images/side_screen.png\" style=\"width: 500px;\"/></td>\n",
    "<td style=\"border: 1px solid #000000;\"><img src=\"images/top_screen.png\" style=\"width: 500px;\"/></td>\n",
    "</table>\n",
    "</center>\n",
    "<br>"
   ]
  },
  {
   "cell_type": "markdown",
   "metadata": {},
   "source": [
    "\n",
    "\n",
    "**<span style = \"color: red\">Run the following code block to get access to several pre-written functions and helper libraries.</span>**"
   ]
  },
  {
   "cell_type": "code",
   "execution_count": null,
   "metadata": {},
   "outputs": [],
   "source": [
    "%run scripts/helpers.py\n",
    "%matplotlib inline"
   ]
  },
  {
   "cell_type": "markdown",
   "metadata": {},
   "source": [
    "<a id='hardwareSetup'></a>\n",
    "# <span style=\"color:blue\">Hardware Setup</span>\n",
    "\n",
    "Please follow the instructions [here](https://docs.google.com/document/d/1qEMy6iSU7u73d7S0fvz_TE4xctNfTcPqz9Lx7x-hExk/edit?usp=sharing). \n",
    "\n"
   ]
  },
  {
   "cell_type": "markdown",
   "metadata": {},
   "source": [
    "<a id='singlePixel'></a>\n",
    "## <span style=\"color:blue\">Real Single Pixel Imaging</span>\n",
    "\n",
    "When dealing with a complicated system, it is often useful to perform a \"sanity check\" to make sure that a simpler subset of the system is working as expected, before adding more complexity. Let's make sure that single pixel imaging from Imaging Lab 2 works. "
   ]
  },
  {
   "cell_type": "code",
   "execution_count": null,
   "metadata": {},
   "outputs": [],
   "source": [
    "#Create `HSingle` to scan a 32x32 image. `HSingle` is the identity matrix.\n",
    "HSingle =np.eye(32*32)\n",
    "\n",
    "plt.figure(figsize = (6, 6))\n",
    "plt.imshow(HSingle, cmap = 'gray', interpolation = 'nearest')\n",
    "np.save('HSingle.npy', HSingle)"
   ]
  },
  {
   "cell_type": "markdown",
   "metadata": {},
   "source": [
    "Now, let's load in a picture/image to display. You can load in our image, or upload you own.  The image you upload must be black and white and 32x32 pixels in size.  If you'd like to draw your own pixel art and upload it, you can try [this site](https://www.pixilart.com/draw).  When you're done drawing your image, download it as a .png file. Simple images with white backgrounds work best!"
   ]
  },
  {
   "cell_type": "code",
   "execution_count": null,
   "metadata": {},
   "outputs": [],
   "source": [
    "#Load in and plot your desired picture.\n",
    "filename = 'data/img_16a_32_32.png'\n",
    "im = mpimg.imread(filename).astype('float32')[:,:,0]\n",
    "\n",
    "plt.imshow(im, cmap = 'gray')"
   ]
  },
  {
   "cell_type": "markdown",
   "metadata": {},
   "source": [
    "Here's a function that will take your H matrix and digitally project it onto your image (slice by slice). This will output a matrix which we will then save and use to display on the computer monitor.  "
   ]
  },
  {
   "cell_type": "code",
   "execution_count": null,
   "metadata": {},
   "outputs": [],
   "source": [
    "def project_H_onto_image(H, img, sz):\n",
    "    H_new = np.zeros_like(H)\n",
    "    for i in range(sz*sz):\n",
    "        mask = np.reshape(H[i, :], (sz, sz))\n",
    "        curr_scan = np.multiply(img, mask)       # Perform a scan using element wise multiplication\n",
    "\n",
    "        H_new[i,:] = np.reshape(curr_scan, (sz*sz))\n",
    "    return H_new"
   ]
  },
  {
   "cell_type": "code",
   "execution_count": null,
   "metadata": {},
   "outputs": [],
   "source": [
    "masked_image_identity = project_H_onto_image(HSingle, im, 32)"
   ]
  },
  {
   "cell_type": "code",
   "execution_count": null,
   "metadata": {},
   "outputs": [],
   "source": [
    "masked_image_identity"
   ]
  },
  {
   "cell_type": "code",
   "execution_count": null,
   "metadata": {},
   "outputs": [],
   "source": [
    "np.save('saved_data/mask_identity.npy', masked_image_identity)\n",
    "np.save('saved_data/Hsingle.npy', HSingle)"
   ]
  },
  {
   "cell_type": "markdown",
   "metadata": {},
   "source": [
    "**<span style=\"color:red\">Double check that you've done the following before proceeding:</span>**\n",
    "\n",
    "* Upload `AnalogReadSerial` to the Launchpad.\n",
    "\n",
    "* Close the Energia Serial Monitor.\n",
    "\n",
    "* Make sure that the ambient light sensor is aimed at the the bottom right corner of your laptop or screen! Its legs should not be touching.\n"
   ]
  },
  {
   "cell_type": "markdown",
   "metadata": {},
   "source": [
    "### Check again that you have closed the Energia Serial Monitor. You will not be able to scan otherwise."
   ]
  },
  {
   "cell_type": "markdown",
   "metadata": {},
   "source": [
    "**<span style=\"color:red\">You will then run the `capture_image.py` script from the following code block that projects mask patterns from $H_{Single}$ onto your image.</span>** \n",
    "\n",
    "When running **`capture_image.py`**, a new icon shaped like a white web will appear in the taskbar. The window depicting our masks will appear on the projector's screen.\n",
    "\n",
    "Before scanning, you will be prompted to specify the **COM port used by the Launchpad and the display associated with the screen.** \n",
    "\n",
    "**Select the COM port associated with UART1 (previously accessed in the Energia Serial Monitor and found using the Device Manager) and the screen that has your light sensor in front of it.** Note that you want to specify the index of your choice i.e. for `2) 1280 x 720`, specify 2.  If you have multiple screens, you can use trial and error to find that right one (an icon will appear on the screen you select) **<span style=\"color:red\">Make sure that you've selected the correct COM port!</span>**\n",
    "\n",
    "`capture_image.py` iterates over the rows of the $H$ matrix you made. These rows are translated, one-by-one, into real masks projected onto the screen. Light sensor readings are taken for each mask. At the start of the scan, you'll see a series of `Loc: # Data: #` printed to the output below. `Loc` corresponds to the index $k$ of the current sensor reading (and likewise current row of H). `Data` corresponds to the actual digitized value obtained from the light sensor. This \"debug\" information is printed consecutively for the first few/last few sensor outputs. Otherwise, this info is printed when `k % 100 = 0` (every 100 scans). \n",
    "\n",
    "Don't worry about messages like `Time delta between captures in s: #`. This is printed a lot because the lab computers are kind of slow. \n",
    "\n",
    "The whole scanning process should take roughly 3 minutes. \n",
    "\n",
    "*Note: On the topic of non-idealities, our scans take so long because:*\n",
    "* We average sensor readings to improve the signal-to-noise ratio. Therefore we need to read more times.\n",
    "* As you'll learn in Module 2, capacitors take some time to charge and discharge. A capacitor acts as a \"low-pass filter.\" We used a 0.1$\\mu$F capacitor in our sensing circuit to \"smooth\" the output and suppress \"high-frequency\" noise. In order to give the capacitor time to \"settle\" (i.e. ~fully charge/discharge), we need to wait longer between scans. Otherwise, the sensor reading will also include some \"memory\" of the previous scan result, when we really want the reading to only be about the current scan. "
   ]
  },
  {
   "cell_type": "markdown",
   "metadata": {},
   "source": [
    "**<span style=\"color:red\">Not getting a good picture?</span>**\n",
    "\n",
    "If you selected the incorrect COM port, a lot more \"debug\" lines will be dumped. You might notice `Data: -1` or `Losing data! Consider increasing your timeout!` messages. Once you see these messages, **stop** the scan, **save** your Jupyter notebook, then **close the Jupyter notebook in your Terminal (Ctrl+C twice) and re-open it**. You'll lose any saved variables (not output images), but everything you need has been saved to a file. Rerun the following code block again, but **make sure you select the right COM port**. "
   ]
  },
  {
   "cell_type": "code",
   "execution_count": null,
   "metadata": {
    "scrolled": true
   },
   "outputs": [],
   "source": [
    "%run scripts/helpers.py\n",
    "%matplotlib inline\n",
    "\n",
    "%run capture_image.py --mask saved_data/mask_identity.npy --out saved_data/sensor_readingsHSingle --width 32 --height 32"
   ]
  },
  {
   "cell_type": "markdown",
   "metadata": {},
   "source": [
    "**<span style=\"color:red\">Let's recreate the image from the sensor readings obtained with `HSingle`. DO NOT move on until you see your expected image (will be noisy, that's ok).</span>**\n",
    "\n",
    "**<span style=\"color:red\">Image too light/dark?</span>**  Try limiting light in your room or on your setup.  One trick is to cover the screen and light sensor with a hoodie or blanket to limit outside light (make sure the breadboard doesn't fall when you do this!).  Another way is to wait until night time and turn off all of the lights."
   ]
  },
  {
   "cell_type": "code",
   "execution_count": null,
   "metadata": {},
   "outputs": [],
   "source": [
    "# Sensor readings\n",
    "sr = np.load('saved_data/sensor_readingsHSingle_100_0.npy')\n",
    "HSingle = np.load('saved_data/Hsingle.npy')\n",
    "\n",
    "# Recreate the image vector from `HSingle` and `sr`\n",
    "# Because `HSingle` is a special matrix, technically you do not need to perform any matrix operations\n",
    "iv = sr \n",
    "\n",
    "img = np.reshape(iv, (32, 32))\n",
    "plt.imshow(img[:-1], cmap = 'gray', interpolation = 'nearest')"
   ]
  },
  {
   "cell_type": "markdown",
   "metadata": {},
   "source": [
    "<a id='multiPixel'></a>\n",
    "## <span style = \"color: blue\">Real Multipixel Imaging</span></a>\n",
    "\n",
    "In the previous section, we scanned our image one pixel at a time. Now, we are going to use two matrices you examined earlier in Imaging Lab 3 for scanning. Run the following blocks to scan your image with the Hadamard matrix and a random matrix."
   ]
  },
  {
   "cell_type": "markdown",
   "metadata": {},
   "source": [
    "### <a id ='hadamard'><span style = \"color: blue\">Hadamard Matrix</span></a>"
   ]
  },
  {
   "cell_type": "code",
   "execution_count": null,
   "metadata": {},
   "outputs": [],
   "source": [
    "# Inputs\n",
    "#  `shape`: 2-element array. shape[0] = # of rows; shape[1] = # of columns\n",
    "# Outputs\n",
    "#  `H`: 2D Hadamard matrix (Hadamard)\n",
    "def createHadamardMatrix(shape, plot=True):\n",
    "    from scipy.linalg import hadamard\n",
    "    # Hadamard matrix with +1, -1 entries\n",
    "    # Note that the matrix order should be 2^r\n",
    "    H = hadamard(shape[0])\n",
    "    # Needs to be binary\n",
    "    H = (H + 1) / 2\n",
    "\n",
    "    if(plot):\n",
    "        plt.imshow(H, cmap = 'gray', interpolation = 'nearest')\n",
    "        plt.title('Hadamard Matrix :)')\n",
    "    return H;"
   ]
  },
  {
   "cell_type": "code",
   "execution_count": null,
   "metadata": {},
   "outputs": [],
   "source": [
    "sz = 32\n",
    "hadamardH = createHadamardMatrix((sz*sz,sz*sz))"
   ]
  },
  {
   "cell_type": "code",
   "execution_count": null,
   "metadata": {},
   "outputs": [],
   "source": [
    "masked_image_hadamard = project_H_onto_image(hadamardH, im, 32)\n",
    "np.save('saved_data/mask_hadamard.npy', masked_image_hadamard)\n",
    "np.save('saved_data/hadamardH.npy', hadamardH)"
   ]
  },
  {
   "cell_type": "code",
   "execution_count": null,
   "metadata": {},
   "outputs": [],
   "source": [
    "%run scripts/helpers.py\n",
    "%matplotlib inline\n",
    "\n",
    "# Run scan\n",
    "%run capture_image.py --mask saved_data/mask_hadamard.npy --out saved_data/sensor_readingsHhadamard3 --width 32 --height 32"
   ]
  },
  {
   "cell_type": "markdown",
   "metadata": {},
   "source": [
    "**<span style=\"color:red\">Let's reconstruct your image. Based off of your simulation results, is this the reconstruction quality that you expected using `randomH`?</span>**"
   ]
  },
  {
   "cell_type": "code",
   "execution_count": null,
   "metadata": {},
   "outputs": [],
   "source": [
    "sr = np.load('saved_data/sensor_readingsHhadamard3_100_0.npy')\n",
    "idealReconstruction(H = hadamardH, matrixName = 'hadamardH', s = sr, realImaging = False, X = sz, Y = sz)"
   ]
  },
  {
   "cell_type": "markdown",
   "metadata": {},
   "source": [
    "### <a id ='random'><span style = \"color: blue\">Random Matrix</span></a>"
   ]
  },
  {
   "cell_type": "markdown",
   "metadata": {},
   "source": [
    "Now let's try using a random H matrix.  Do you think the random H will work better or worse?\n"
   ]
  },
  {
   "cell_type": "code",
   "execution_count": null,
   "metadata": {},
   "outputs": [],
   "source": [
    "sz = 32\n",
    "randomH = generateRandomBinaryMask(500, X = 32, Y = 32)"
   ]
  },
  {
   "cell_type": "code",
   "execution_count": null,
   "metadata": {},
   "outputs": [],
   "source": [
    "masked_image_random = project_H_onto_image(randomH, im, 32)\n",
    "np.save('saved_data/mask_random.npy', masked_image_random)\n",
    "np.save('saved_data/randomH.npy', randomH)"
   ]
  },
  {
   "cell_type": "code",
   "execution_count": null,
   "metadata": {},
   "outputs": [],
   "source": [
    "%run scripts/helpers.py\n",
    "%matplotlib inline\n",
    "\n",
    "# Run scan\n",
    "%run capture_image.py --mask saved_data/mask_random.npy --out saved_data/sensor_readingsHrandom --width 32 --height 32"
   ]
  },
  {
   "cell_type": "markdown",
   "metadata": {},
   "source": [
    "**<span style=\"color:red\">Let's reconstruct your image. Based off of your simulation results, is this the reconstruction quality that you expected using `randomH`?</span>**"
   ]
  },
  {
   "cell_type": "code",
   "execution_count": null,
   "metadata": {},
   "outputs": [],
   "source": [
    "sr = np.load('saved_data/sensor_readingsHrandom_100_0.npy')\n",
    "idealReconstruction(H = hadamardH, matrixName = 'randomH', s = sr, X = sz, Y = sz)"
   ]
  },
  {
   "cell_type": "markdown",
   "metadata": {},
   "source": [
    "**<span style=\"color:red\">Comment on your reconstruction results when using `randomH` and `hadamardH`. In real imaging, which matrix did better? Did this match your expectations from simulation? Why? Did multipixel imaging do better or worse than single pixel imaging?  Why?</span>**"
   ]
  },
  {
   "cell_type": "markdown",
   "metadata": {},
   "source": [
    "`YOUR COMMENTS HERE`"
   ]
  }
 ],
 "metadata": {
  "anaconda-cloud": {},
  "kernelspec": {
   "display_name": "Python 3",
   "language": "python",
   "name": "python3"
  },
  "language_info": {
   "codemirror_mode": {
    "name": "ipython",
    "version": 3
   },
   "file_extension": ".py",
   "mimetype": "text/x-python",
   "name": "python",
   "nbconvert_exporter": "python",
   "pygments_lexer": "ipython3",
   "version": "3.7.6"
  }
 },
 "nbformat": 4,
 "nbformat_minor": 1
}
